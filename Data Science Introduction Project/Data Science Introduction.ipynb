{
 "cells": [
  {
   "cell_type": "code",
   "execution_count": 1,
   "id": "3ccd14e3",
   "metadata": {},
   "outputs": [],
   "source": [
    "import numpy as np\n",
    "import pandas as pd\n",
    "import matplotlib.pyplot as plt\n",
    "from collections import Counter\n",
    "import warnings\n",
    "\n",
    "warnings.filterwarnings(\"ignore\") # warningleri görmezden gelir"
   ]
  },
  {
   "cell_type": "markdown",
   "id": "1811eca2",
   "metadata": {},
   "source": [
    "# Verileri İçeri Aktaralım"
   ]
  },
  {
   "cell_type": "code",
   "execution_count": 2,
   "id": "eabfb9dd",
   "metadata": {},
   "outputs": [
    {
     "data": {
      "text/html": [
       "<div>\n",
       "<style scoped>\n",
       "    .dataframe tbody tr th:only-of-type {\n",
       "        vertical-align: middle;\n",
       "    }\n",
       "\n",
       "    .dataframe tbody tr th {\n",
       "        vertical-align: top;\n",
       "    }\n",
       "\n",
       "    .dataframe thead th {\n",
       "        text-align: right;\n",
       "    }\n",
       "</style>\n",
       "<table border=\"1\" class=\"dataframe\">\n",
       "  <thead>\n",
       "    <tr style=\"text-align: right;\">\n",
       "      <th></th>\n",
       "      <th>ID</th>\n",
       "      <th>Name</th>\n",
       "      <th>Gender</th>\n",
       "      <th>Age</th>\n",
       "      <th>Height</th>\n",
       "      <th>Weight</th>\n",
       "      <th>Team</th>\n",
       "      <th>NOC</th>\n",
       "      <th>Games</th>\n",
       "      <th>Year</th>\n",
       "      <th>Season</th>\n",
       "      <th>City</th>\n",
       "      <th>Sport</th>\n",
       "      <th>Event</th>\n",
       "      <th>Medal</th>\n",
       "    </tr>\n",
       "  </thead>\n",
       "  <tbody>\n",
       "    <tr>\n",
       "      <th>0</th>\n",
       "      <td>1</td>\n",
       "      <td>A Dijiang</td>\n",
       "      <td>M</td>\n",
       "      <td>24.0</td>\n",
       "      <td>180.0</td>\n",
       "      <td>80.0</td>\n",
       "      <td>China</td>\n",
       "      <td>CHN</td>\n",
       "      <td>1992 Summer</td>\n",
       "      <td>1992</td>\n",
       "      <td>Summer</td>\n",
       "      <td>Barcelona</td>\n",
       "      <td>Basketball</td>\n",
       "      <td>Basketball Men's Basketball</td>\n",
       "      <td>NaN</td>\n",
       "    </tr>\n",
       "    <tr>\n",
       "      <th>1</th>\n",
       "      <td>2</td>\n",
       "      <td>A Lamusi</td>\n",
       "      <td>M</td>\n",
       "      <td>23.0</td>\n",
       "      <td>170.0</td>\n",
       "      <td>60.0</td>\n",
       "      <td>China</td>\n",
       "      <td>CHN</td>\n",
       "      <td>2012 Summer</td>\n",
       "      <td>2012</td>\n",
       "      <td>Summer</td>\n",
       "      <td>London</td>\n",
       "      <td>Judo</td>\n",
       "      <td>Judo Men's Extra-Lightweight</td>\n",
       "      <td>NaN</td>\n",
       "    </tr>\n",
       "    <tr>\n",
       "      <th>2</th>\n",
       "      <td>3</td>\n",
       "      <td>Gunnar Nielsen Aaby</td>\n",
       "      <td>M</td>\n",
       "      <td>24.0</td>\n",
       "      <td>NaN</td>\n",
       "      <td>NaN</td>\n",
       "      <td>Denmark</td>\n",
       "      <td>DEN</td>\n",
       "      <td>1920 Summer</td>\n",
       "      <td>1920</td>\n",
       "      <td>Summer</td>\n",
       "      <td>Antwerpen</td>\n",
       "      <td>Football</td>\n",
       "      <td>Football Men's Football</td>\n",
       "      <td>NaN</td>\n",
       "    </tr>\n",
       "    <tr>\n",
       "      <th>3</th>\n",
       "      <td>4</td>\n",
       "      <td>Edgar Lindenau Aabye</td>\n",
       "      <td>M</td>\n",
       "      <td>34.0</td>\n",
       "      <td>NaN</td>\n",
       "      <td>NaN</td>\n",
       "      <td>Denmark/Sweden</td>\n",
       "      <td>DEN</td>\n",
       "      <td>1900 Summer</td>\n",
       "      <td>1900</td>\n",
       "      <td>Summer</td>\n",
       "      <td>Paris</td>\n",
       "      <td>Tug-Of-War</td>\n",
       "      <td>Tug-Of-War Men's Tug-Of-War</td>\n",
       "      <td>Gold</td>\n",
       "    </tr>\n",
       "    <tr>\n",
       "      <th>4</th>\n",
       "      <td>5</td>\n",
       "      <td>Christine Jacoba Aaftink</td>\n",
       "      <td>F</td>\n",
       "      <td>21.0</td>\n",
       "      <td>185.0</td>\n",
       "      <td>82.0</td>\n",
       "      <td>Netherlands</td>\n",
       "      <td>NED</td>\n",
       "      <td>1988 Winter</td>\n",
       "      <td>1988</td>\n",
       "      <td>Winter</td>\n",
       "      <td>Calgary</td>\n",
       "      <td>Speed Skating</td>\n",
       "      <td>Speed Skating Women's 500 metres</td>\n",
       "      <td>NaN</td>\n",
       "    </tr>\n",
       "  </tbody>\n",
       "</table>\n",
       "</div>"
      ],
      "text/plain": [
       "   ID                      Name Gender   Age  Height  Weight            Team  \\\n",
       "0   1                 A Dijiang      M  24.0   180.0    80.0           China   \n",
       "1   2                  A Lamusi      M  23.0   170.0    60.0           China   \n",
       "2   3       Gunnar Nielsen Aaby      M  24.0     NaN     NaN         Denmark   \n",
       "3   4      Edgar Lindenau Aabye      M  34.0     NaN     NaN  Denmark/Sweden   \n",
       "4   5  Christine Jacoba Aaftink      F  21.0   185.0    82.0     Netherlands   \n",
       "\n",
       "   NOC        Games  Year  Season       City          Sport  \\\n",
       "0  CHN  1992 Summer  1992  Summer  Barcelona     Basketball   \n",
       "1  CHN  2012 Summer  2012  Summer     London           Judo   \n",
       "2  DEN  1920 Summer  1920  Summer  Antwerpen       Football   \n",
       "3  DEN  1900 Summer  1900  Summer      Paris     Tug-Of-War   \n",
       "4  NED  1988 Winter  1988  Winter    Calgary  Speed Skating   \n",
       "\n",
       "                              Event Medal  \n",
       "0       Basketball Men's Basketball   NaN  \n",
       "1      Judo Men's Extra-Lightweight   NaN  \n",
       "2           Football Men's Football   NaN  \n",
       "3       Tug-Of-War Men's Tug-Of-War  Gold  \n",
       "4  Speed Skating Women's 500 metres   NaN  "
      ]
     },
     "execution_count": 2,
     "metadata": {},
     "output_type": "execute_result"
    }
   ],
   "source": [
    "veri = pd.read_csv(\"olimpiyatlar.csv\")\n",
    "veri.head()"
   ]
  },
  {
   "cell_type": "markdown",
   "id": "ab8eafd2",
   "metadata": {},
   "source": [
    "# Veri Hakkında Bilgi"
   ]
  },
  {
   "cell_type": "code",
   "execution_count": 3,
   "id": "06a828bf",
   "metadata": {},
   "outputs": [
    {
     "name": "stdout",
     "output_type": "stream",
     "text": [
      "<class 'pandas.core.frame.DataFrame'>\n",
      "RangeIndex: 271116 entries, 0 to 271115\n",
      "Data columns (total 15 columns):\n",
      " #   Column  Non-Null Count   Dtype  \n",
      "---  ------  --------------   -----  \n",
      " 0   ID      271116 non-null  int64  \n",
      " 1   Name    271116 non-null  object \n",
      " 2   Gender  271116 non-null  object \n",
      " 3   Age     261642 non-null  float64\n",
      " 4   Height  210945 non-null  float64\n",
      " 5   Weight  208241 non-null  float64\n",
      " 6   Team    271116 non-null  object \n",
      " 7   NOC     271116 non-null  object \n",
      " 8   Games   271116 non-null  object \n",
      " 9   Year    271116 non-null  int64  \n",
      " 10  Season  271116 non-null  object \n",
      " 11  City    271116 non-null  object \n",
      " 12  Sport   271116 non-null  object \n",
      " 13  Event   271116 non-null  object \n",
      " 14  Medal   39783 non-null   object \n",
      "dtypes: float64(3), int64(2), object(10)\n",
      "memory usage: 31.0+ MB\n"
     ]
    }
   ],
   "source": [
    "veri.info()"
   ]
  },
  {
   "cell_type": "markdown",
   "id": "8ee898d1",
   "metadata": {},
   "source": [
    "# Sutun İsimlerini Değiştirelim"
   ]
  },
  {
   "cell_type": "code",
   "execution_count": 4,
   "id": "e742af5a",
   "metadata": {
    "scrolled": true
   },
   "outputs": [
    {
     "data": {
      "text/html": [
       "<div>\n",
       "<style scoped>\n",
       "    .dataframe tbody tr th:only-of-type {\n",
       "        vertical-align: middle;\n",
       "    }\n",
       "\n",
       "    .dataframe tbody tr th {\n",
       "        vertical-align: top;\n",
       "    }\n",
       "\n",
       "    .dataframe thead th {\n",
       "        text-align: right;\n",
       "    }\n",
       "</style>\n",
       "<table border=\"1\" class=\"dataframe\">\n",
       "  <thead>\n",
       "    <tr style=\"text-align: right;\">\n",
       "      <th></th>\n",
       "      <th>id</th>\n",
       "      <th>isim</th>\n",
       "      <th>cinsiyet</th>\n",
       "      <th>yaş</th>\n",
       "      <th>boy</th>\n",
       "      <th>ağırlık</th>\n",
       "      <th>takım</th>\n",
       "      <th>uok</th>\n",
       "      <th>oyunlar</th>\n",
       "      <th>yıl</th>\n",
       "      <th>sezon</th>\n",
       "      <th>şehir</th>\n",
       "      <th>spor</th>\n",
       "      <th>etkinlik</th>\n",
       "      <th>madalya</th>\n",
       "    </tr>\n",
       "  </thead>\n",
       "  <tbody>\n",
       "    <tr>\n",
       "      <th>0</th>\n",
       "      <td>1</td>\n",
       "      <td>A Dijiang</td>\n",
       "      <td>M</td>\n",
       "      <td>24.0</td>\n",
       "      <td>180.0</td>\n",
       "      <td>80.0</td>\n",
       "      <td>China</td>\n",
       "      <td>CHN</td>\n",
       "      <td>1992 Summer</td>\n",
       "      <td>1992</td>\n",
       "      <td>Summer</td>\n",
       "      <td>Barcelona</td>\n",
       "      <td>Basketball</td>\n",
       "      <td>Basketball Men's Basketball</td>\n",
       "      <td>NaN</td>\n",
       "    </tr>\n",
       "    <tr>\n",
       "      <th>1</th>\n",
       "      <td>2</td>\n",
       "      <td>A Lamusi</td>\n",
       "      <td>M</td>\n",
       "      <td>23.0</td>\n",
       "      <td>170.0</td>\n",
       "      <td>60.0</td>\n",
       "      <td>China</td>\n",
       "      <td>CHN</td>\n",
       "      <td>2012 Summer</td>\n",
       "      <td>2012</td>\n",
       "      <td>Summer</td>\n",
       "      <td>London</td>\n",
       "      <td>Judo</td>\n",
       "      <td>Judo Men's Extra-Lightweight</td>\n",
       "      <td>NaN</td>\n",
       "    </tr>\n",
       "    <tr>\n",
       "      <th>2</th>\n",
       "      <td>3</td>\n",
       "      <td>Gunnar Nielsen Aaby</td>\n",
       "      <td>M</td>\n",
       "      <td>24.0</td>\n",
       "      <td>NaN</td>\n",
       "      <td>NaN</td>\n",
       "      <td>Denmark</td>\n",
       "      <td>DEN</td>\n",
       "      <td>1920 Summer</td>\n",
       "      <td>1920</td>\n",
       "      <td>Summer</td>\n",
       "      <td>Antwerpen</td>\n",
       "      <td>Football</td>\n",
       "      <td>Football Men's Football</td>\n",
       "      <td>NaN</td>\n",
       "    </tr>\n",
       "  </tbody>\n",
       "</table>\n",
       "</div>"
      ],
      "text/plain": [
       "   id                 isim cinsiyet   yaş    boy  ağırlık    takım  uok  \\\n",
       "0   1            A Dijiang        M  24.0  180.0     80.0    China  CHN   \n",
       "1   2             A Lamusi        M  23.0  170.0     60.0    China  CHN   \n",
       "2   3  Gunnar Nielsen Aaby        M  24.0    NaN      NaN  Denmark  DEN   \n",
       "\n",
       "       oyunlar   yıl   sezon      şehir        spor  \\\n",
       "0  1992 Summer  1992  Summer  Barcelona  Basketball   \n",
       "1  2012 Summer  2012  Summer     London        Judo   \n",
       "2  1920 Summer  1920  Summer  Antwerpen    Football   \n",
       "\n",
       "                       etkinlik madalya  \n",
       "0   Basketball Men's Basketball     NaN  \n",
       "1  Judo Men's Extra-Lightweight     NaN  \n",
       "2       Football Men's Football     NaN  "
      ]
     },
     "execution_count": 4,
     "metadata": {},
     "output_type": "execute_result"
    }
   ],
   "source": [
    "veri.rename(columns = {\"ID\"     :\"id\",\n",
    "                       \"Name\"   :\"isim\", \n",
    "                       \"Gender\" :\"cinsiyet\",\n",
    "                       \"Age\"    :\"yaş\",\n",
    "                       \"Height\" :\"boy\",\n",
    "                       \"Weight\" :\"ağırlık\",\n",
    "                       \"Team\"   :\"takım\",\n",
    "                       \"NOC\"    :\"uok\",\n",
    "                       \"Games\"  :\"oyunlar\",\n",
    "                       \"Year\"   :\"yıl\",\n",
    "                       \"Season\" :\"sezon\",\n",
    "                       \"City\"   :\"şehir\",\n",
    "                       \"Sport\"  :\"spor\",\n",
    "                       \"Event\"  :\"etkinlik\",\n",
    "                       \"Medal\"  :\"madalya\"}, inplace=True) # inplace true yaparak direkt veri seti üzerinden değişiklik yapıyoruz\n",
    "veri.head(3)"
   ]
  },
  {
   "cell_type": "markdown",
   "id": "adb43255",
   "metadata": {},
   "source": [
    "# Yararsız Verilerin Çıkarılması"
   ]
  },
  {
   "cell_type": "code",
   "execution_count": 5,
   "id": "ef42631e",
   "metadata": {},
   "outputs": [
    {
     "data": {
      "text/html": [
       "<div>\n",
       "<style scoped>\n",
       "    .dataframe tbody tr th:only-of-type {\n",
       "        vertical-align: middle;\n",
       "    }\n",
       "\n",
       "    .dataframe tbody tr th {\n",
       "        vertical-align: top;\n",
       "    }\n",
       "\n",
       "    .dataframe thead th {\n",
       "        text-align: right;\n",
       "    }\n",
       "</style>\n",
       "<table border=\"1\" class=\"dataframe\">\n",
       "  <thead>\n",
       "    <tr style=\"text-align: right;\">\n",
       "      <th></th>\n",
       "      <th>isim</th>\n",
       "      <th>cinsiyet</th>\n",
       "      <th>yaş</th>\n",
       "      <th>boy</th>\n",
       "      <th>ağırlık</th>\n",
       "      <th>takım</th>\n",
       "      <th>uok</th>\n",
       "      <th>yıl</th>\n",
       "      <th>sezon</th>\n",
       "      <th>şehir</th>\n",
       "      <th>spor</th>\n",
       "      <th>etkinlik</th>\n",
       "      <th>madalya</th>\n",
       "    </tr>\n",
       "  </thead>\n",
       "  <tbody>\n",
       "    <tr>\n",
       "      <th>0</th>\n",
       "      <td>A Dijiang</td>\n",
       "      <td>M</td>\n",
       "      <td>24.0</td>\n",
       "      <td>180.0</td>\n",
       "      <td>80.0</td>\n",
       "      <td>China</td>\n",
       "      <td>CHN</td>\n",
       "      <td>1992</td>\n",
       "      <td>Summer</td>\n",
       "      <td>Barcelona</td>\n",
       "      <td>Basketball</td>\n",
       "      <td>Basketball Men's Basketball</td>\n",
       "      <td>NaN</td>\n",
       "    </tr>\n",
       "    <tr>\n",
       "      <th>1</th>\n",
       "      <td>A Lamusi</td>\n",
       "      <td>M</td>\n",
       "      <td>23.0</td>\n",
       "      <td>170.0</td>\n",
       "      <td>60.0</td>\n",
       "      <td>China</td>\n",
       "      <td>CHN</td>\n",
       "      <td>2012</td>\n",
       "      <td>Summer</td>\n",
       "      <td>London</td>\n",
       "      <td>Judo</td>\n",
       "      <td>Judo Men's Extra-Lightweight</td>\n",
       "      <td>NaN</td>\n",
       "    </tr>\n",
       "    <tr>\n",
       "      <th>2</th>\n",
       "      <td>Gunnar Nielsen Aaby</td>\n",
       "      <td>M</td>\n",
       "      <td>24.0</td>\n",
       "      <td>NaN</td>\n",
       "      <td>NaN</td>\n",
       "      <td>Denmark</td>\n",
       "      <td>DEN</td>\n",
       "      <td>1920</td>\n",
       "      <td>Summer</td>\n",
       "      <td>Antwerpen</td>\n",
       "      <td>Football</td>\n",
       "      <td>Football Men's Football</td>\n",
       "      <td>NaN</td>\n",
       "    </tr>\n",
       "  </tbody>\n",
       "</table>\n",
       "</div>"
      ],
      "text/plain": [
       "                  isim cinsiyet   yaş    boy  ağırlık    takım  uok   yıl  \\\n",
       "0            A Dijiang        M  24.0  180.0     80.0    China  CHN  1992   \n",
       "1             A Lamusi        M  23.0  170.0     60.0    China  CHN  2012   \n",
       "2  Gunnar Nielsen Aaby        M  24.0    NaN      NaN  Denmark  DEN  1920   \n",
       "\n",
       "    sezon      şehir        spor                      etkinlik madalya  \n",
       "0  Summer  Barcelona  Basketball   Basketball Men's Basketball     NaN  \n",
       "1  Summer     London        Judo  Judo Men's Extra-Lightweight     NaN  \n",
       "2  Summer  Antwerpen    Football       Football Men's Football     NaN  "
      ]
     },
     "execution_count": 5,
     "metadata": {},
     "output_type": "execute_result"
    }
   ],
   "source": [
    "veri.drop([\"id\",\"oyunlar\"], axis=1, inplace=True)\n",
    "veri.head(3)"
   ]
  },
  {
   "cell_type": "markdown",
   "id": "77c45f08",
   "metadata": {},
   "source": [
    "# Boy ve Kilo Sutunu Kayıp Veri Doldurma"
   ]
  },
  {
   "cell_type": "code",
   "execution_count": 6,
   "id": "3855ee13",
   "metadata": {},
   "outputs": [
    {
     "name": "stdout",
     "output_type": "stream",
     "text": [
      "Eşsiz etkinlik sayısı: 765\n",
      "[\"Basketball Men's Basketball\" \"Judo Men's Extra-Lightweight\"\n",
      " \"Football Men's Football\" \"Tug-Of-War Men's Tug-Of-War\"\n",
      " \"Speed Skating Women's 500 metres\" \"Speed Skating Women's 1,000 metres\"\n",
      " \"Cross Country Skiing Men's 10 kilometres\"\n",
      " \"Cross Country Skiing Men's 50 kilometres\"\n",
      " \"Cross Country Skiing Men's 10/15 kilometres Pursuit\"\n",
      " \"Cross Country Skiing Men's 4 x 10 kilometres Relay\"]\n"
     ]
    }
   ],
   "source": [
    "essiz_etkinlik = pd.unique(veri.etkinlik) # unique ile birden fazla etkinlik olanları görmeden tüm etkinlikleri alırız\n",
    "print(\"Eşsiz etkinlik sayısı: {}\" .format(len(essiz_etkinlik)))\n",
    "print(essiz_etkinlik[:10])"
   ]
  },
  {
   "cell_type": "code",
   "execution_count": 7,
   "id": "1e52babd",
   "metadata": {},
   "outputs": [
    {
     "name": "stdout",
     "output_type": "stream",
     "text": [
      "<class 'pandas.core.frame.DataFrame'>\n",
      "RangeIndex: 271116 entries, 0 to 271115\n",
      "Data columns (total 13 columns):\n",
      " #   Column    Non-Null Count   Dtype  \n",
      "---  ------    --------------   -----  \n",
      " 0   isim      271116 non-null  object \n",
      " 1   cinsiyet  271116 non-null  object \n",
      " 2   yaş       261642 non-null  float64\n",
      " 3   boy       271116 non-null  float64\n",
      " 4   ağırlık   271116 non-null  float64\n",
      " 5   takım     271116 non-null  object \n",
      " 6   uok       271116 non-null  object \n",
      " 7   yıl       271116 non-null  int64  \n",
      " 8   sezon     271116 non-null  object \n",
      " 9   şehir     271116 non-null  object \n",
      " 10  spor      271116 non-null  object \n",
      " 11  etkinlik  271116 non-null  object \n",
      " 12  madalya   39783 non-null   object \n",
      "dtypes: float64(3), int64(1), object(9)\n",
      "memory usage: 26.9+ MB\n"
     ]
    }
   ],
   "source": [
    "veri_gecici = veri.copy() # Gerçek veriyi kaybetmemek için geçici bir değişkene kopyalıyoruz\n",
    "boy_kilo_liste = [\"boy\", \"ağırlık\"]\n",
    "\n",
    "for e in essiz_etkinlik:\n",
    "    \n",
    "    etkinlik_filtre = veri_gecici.etkinlik == e\n",
    "    veri_filtreli = veri_gecici[etkinlik_filtre]\n",
    "    \n",
    "    for s in boy_kilo_liste:\n",
    "        ortalama = np.round(np.mean(veri_filtreli[s]),2)\n",
    "         \n",
    "        if ~np.isnan(ortalama): # eger etkinlik ozelinde ortalama varsa\n",
    "            veri_filtreli[s] = veri_filtreli[s].fillna(ortalama)\n",
    "        else: # eger etkinlik ozelinde ortalama yoksa tum veri ortalamasini hesapla \n",
    "            tum_veri_ortalamasi = np.round(np.mean(veri[s]), 2)\n",
    "            veri_filtreli[s] = veri_filtreli[s].fillna(tum_veri_ortalamasi)\n",
    "            \n",
    "    veri_gecici[etkinlik_filtre] = veri_filtreli        \n",
    "\n",
    "veri = veri_gecici.copy()\n",
    "veri.info()   "
   ]
  },
  {
   "cell_type": "markdown",
   "id": "9f6c12cd",
   "metadata": {},
   "source": [
    "# Yas sutunu kayıp veri doldurma"
   ]
  },
  {
   "cell_type": "code",
   "execution_count": 8,
   "id": "22bf2d0b",
   "metadata": {},
   "outputs": [
    {
     "name": "stdout",
     "output_type": "stream",
     "text": [
      "Yaş Ortalaması: 26.0\n",
      "<class 'pandas.core.frame.DataFrame'>\n",
      "RangeIndex: 271116 entries, 0 to 271115\n",
      "Data columns (total 13 columns):\n",
      " #   Column    Non-Null Count   Dtype  \n",
      "---  ------    --------------   -----  \n",
      " 0   isim      271116 non-null  object \n",
      " 1   cinsiyet  271116 non-null  object \n",
      " 2   yaş       271116 non-null  float64\n",
      " 3   boy       271116 non-null  float64\n",
      " 4   ağırlık   271116 non-null  float64\n",
      " 5   takım     271116 non-null  object \n",
      " 6   uok       271116 non-null  object \n",
      " 7   yıl       271116 non-null  int64  \n",
      " 8   sezon     271116 non-null  object \n",
      " 9   şehir     271116 non-null  object \n",
      " 10  spor      271116 non-null  object \n",
      " 11  etkinlik  271116 non-null  object \n",
      " 12  madalya   39783 non-null   object \n",
      "dtypes: float64(3), int64(1), object(9)\n",
      "memory usage: 26.9+ MB\n"
     ]
    }
   ],
   "source": [
    "yas_ortalamasi = np.round(np.mean(veri.yaş), 0)\n",
    "print(\"Yaş Ortalaması: {}\" .format(yas_ortalamasi))\n",
    "veri[\"yaş\"] = veri[\"yaş\"].fillna(yas_ortalamasi)\n",
    "veri.info()"
   ]
  },
  {
   "cell_type": "markdown",
   "id": "23948b9f",
   "metadata": {},
   "source": [
    "# Madalya Alamayan Sporcuları Veri Setinden Çıkar"
   ]
  },
  {
   "cell_type": "code",
   "execution_count": 9,
   "id": "dc82dd0d",
   "metadata": {},
   "outputs": [
    {
     "name": "stdout",
     "output_type": "stream",
     "text": [
      "231333\n",
      "<class 'pandas.core.frame.DataFrame'>\n",
      "Int64Index: 39783 entries, 3 to 271103\n",
      "Data columns (total 13 columns):\n",
      " #   Column    Non-Null Count  Dtype  \n",
      "---  ------    --------------  -----  \n",
      " 0   isim      39783 non-null  object \n",
      " 1   cinsiyet  39783 non-null  object \n",
      " 2   yaş       39783 non-null  float64\n",
      " 3   boy       39783 non-null  float64\n",
      " 4   ağırlık   39783 non-null  float64\n",
      " 5   takım     39783 non-null  object \n",
      " 6   uok       39783 non-null  object \n",
      " 7   yıl       39783 non-null  int64  \n",
      " 8   sezon     39783 non-null  object \n",
      " 9   şehir     39783 non-null  object \n",
      " 10  spor      39783 non-null  object \n",
      " 11  etkinlik  39783 non-null  object \n",
      " 12  madalya   39783 non-null  object \n",
      "dtypes: float64(3), int64(1), object(9)\n",
      "memory usage: 4.2+ MB\n"
     ]
    }
   ],
   "source": [
    "madalya_degiskeni = veri[\"madalya\"]\n",
    "print(pd.isnull(madalya_degiskeni).sum())\n",
    "\n",
    "madalya_degiskeni_filtresi = ~pd.isnull(madalya_degiskeni)\n",
    "veri = veri[madalya_degiskeni_filtresi]\n",
    "veri.head(10)\n",
    "veri.info()\n",
    "\n",
    "veri.to_csv(\"olimpiyatlar_temizlenmiş.csv\", index=False) # Temizlenmiş veriyi kaydediyoruz"
   ]
  },
  {
   "cell_type": "markdown",
   "id": "805a3acc",
   "metadata": {},
   "source": [
    "# TEK DEĞİŞKENLİ VERİ ANALİZİ\n",
    "  # Sayısal Değişkenler(Yaş,Boy,Kilo,Yıl)"
   ]
  },
  {
   "cell_type": "code",
   "execution_count": 10,
   "id": "3c527897",
   "metadata": {},
   "outputs": [
    {
     "data": {
      "image/png": "[encoded data removed]",
      "text/plain": [
       "<Figure size 432x288 with 1 Axes>"
      ]
     },
     "metadata": {
      "needs_background": "light"
     },
     "output_type": "display_data"
    },
    {
     "data": {
      "image/png": "[encoded data removed]",
      "text/plain": [
       "<Figure size 432x288 with 1 Axes>"
      ]
     },
     "metadata": {
      "needs_background": "light"
     },
     "output_type": "display_data"
    },
    {
     "data": {
      "image/png": "[encoded data removed]",
      "text/plain": [
       "<Figure size 432x288 with 1 Axes>"
      ]
     },
     "metadata": {
      "needs_background": "light"
     },
     "output_type": "display_data"
    },
    {
     "data": {
      "image/png": "[encoded data removed]",
      "text/plain": [
       "<Figure size 432x288 with 1 Axes>"
      ]
     },
     "metadata": {
      "needs_background": "light"
     },
     "output_type": "display_data"
    },
    {
     "data": {
      "text/html": [
       "<div>\n",
       "<style scoped>\n",
       "    .dataframe tbody tr th:only-of-type {\n",
       "        vertical-align: middle;\n",
       "    }\n",
       "\n",
       "    .dataframe tbody tr th {\n",
       "        vertical-align: top;\n",
       "    }\n",
       "\n",
       "    .dataframe thead th {\n",
       "        text-align: right;\n",
       "    }\n",
       "</style>\n",
       "<table border=\"1\" class=\"dataframe\">\n",
       "  <thead>\n",
       "    <tr style=\"text-align: right;\">\n",
       "      <th></th>\n",
       "      <th>yaş</th>\n",
       "      <th>boy</th>\n",
       "      <th>ağırlık</th>\n",
       "      <th>yıl</th>\n",
       "    </tr>\n",
       "  </thead>\n",
       "  <tbody>\n",
       "    <tr>\n",
       "      <th>count</th>\n",
       "      <td>39783.000000</td>\n",
       "      <td>39783.000000</td>\n",
       "      <td>39783.000000</td>\n",
       "      <td>39783.000000</td>\n",
       "    </tr>\n",
       "    <tr>\n",
       "      <th>mean</th>\n",
       "      <td>25.926552</td>\n",
       "      <td>177.336690</td>\n",
       "      <td>73.738320</td>\n",
       "      <td>1973.943845</td>\n",
       "    </tr>\n",
       "    <tr>\n",
       "      <th>std</th>\n",
       "      <td>5.859372</td>\n",
       "      <td>10.170124</td>\n",
       "      <td>13.979041</td>\n",
       "      <td>33.822857</td>\n",
       "    </tr>\n",
       "    <tr>\n",
       "      <th>min</th>\n",
       "      <td>10.000000</td>\n",
       "      <td>136.000000</td>\n",
       "      <td>28.000000</td>\n",
       "      <td>1896.000000</td>\n",
       "    </tr>\n",
       "    <tr>\n",
       "      <th>25%</th>\n",
       "      <td>22.000000</td>\n",
       "      <td>170.000000</td>\n",
       "      <td>64.000000</td>\n",
       "      <td>1952.000000</td>\n",
       "    </tr>\n",
       "    <tr>\n",
       "      <th>50%</th>\n",
       "      <td>25.000000</td>\n",
       "      <td>177.480000</td>\n",
       "      <td>73.000000</td>\n",
       "      <td>1984.000000</td>\n",
       "    </tr>\n",
       "    <tr>\n",
       "      <th>75%</th>\n",
       "      <td>29.000000</td>\n",
       "      <td>184.000000</td>\n",
       "      <td>82.000000</td>\n",
       "      <td>2002.000000</td>\n",
       "    </tr>\n",
       "    <tr>\n",
       "      <th>max</th>\n",
       "      <td>73.000000</td>\n",
       "      <td>223.000000</td>\n",
       "      <td>182.000000</td>\n",
       "      <td>2016.000000</td>\n",
       "    </tr>\n",
       "  </tbody>\n",
       "</table>\n",
       "</div>"
      ],
      "text/plain": [
       "                yaş           boy       ağırlık           yıl\n",
       "count  39783.000000  39783.000000  39783.000000  39783.000000\n",
       "mean      25.926552    177.336690     73.738320   1973.943845\n",
       "std        5.859372     10.170124     13.979041     33.822857\n",
       "min       10.000000    136.000000     28.000000   1896.000000\n",
       "25%       22.000000    170.000000     64.000000   1952.000000\n",
       "50%       25.000000    177.480000     73.000000   1984.000000\n",
       "75%       29.000000    184.000000     82.000000   2002.000000\n",
       "max       73.000000    223.000000    182.000000   2016.000000"
      ]
     },
     "execution_count": 10,
     "metadata": {},
     "output_type": "execute_result"
    }
   ],
   "source": [
    "def plotHistogram(degisken):\n",
    "    \n",
    "    plt.figure()\n",
    "    plt.hist(veri[degisken], bins=85, color=\"orange\") # bins bölünecek aralık sayısı\n",
    "    plt.xlabel(degisken)\n",
    "    plt.ylabel(\"frekans\")\n",
    "    plt.title(\"Veri Sıklığı - {}\" .format(degisken))\n",
    "    plt.show()\n",
    "    \n",
    "sayisalDegiskenler = [\"yaş\", \"boy\", \"ağırlık\", \"yıl\"]   \n",
    "\n",
    "for i in sayisalDegiskenler:\n",
    "    plotHistogram(i)\n",
    "    \n",
    "verininIstatistikselOzellikleri = veri.describe()\n",
    "verininIstatistikselOzellikleri"
   ]
  },
  {
   "cell_type": "code",
   "execution_count": 11,
   "id": "a2f755f7",
   "metadata": {},
   "outputs": [
    {
     "data": {
      "image/png": "[encoded data removed]",
      "text/plain": [
       "<Figure size 432x288 with 1 Axes>"
      ]
     },
     "metadata": {
      "needs_background": "light"
     },
     "output_type": "display_data"
    }
   ],
   "source": [
    "plt.boxplot(veri[\"yaş\"])\n",
    "plt.title(\"Yaş Değişkeni İçin Kutu Grafiği\")\n",
    "plt.xlabel(\"Yaş\")\n",
    "plt.ylabel(\"Değer\")\n",
    "plt.show()"
   ]
  },
  {
   "cell_type": "markdown",
   "id": "c6bf0bce",
   "metadata": {},
   "source": [
    "# Kategorik Değişkenler"
   ]
  },
  {
   "cell_type": "code",
   "execution_count": 12,
   "id": "2c4ac10f",
   "metadata": {},
   "outputs": [
    {
     "data": {
      "image/png": "[encoded data removed]",
      "text/plain": [
       "<Figure size 432x288 with 1 Axes>"
      ]
     },
     "metadata": {
      "needs_background": "light"
     },
     "output_type": "display_data"
    },
    {
     "name": "stdout",
     "output_type": "stream",
     "text": [
      "isim: \n",
      " Michael Fred Phelps, II               28\n",
      "Larysa Semenivna Latynina (Diriy-)    18\n",
      "Nikolay Yefimovich Andrianov          15\n",
      "Ole Einar Bjrndalen                   13\n",
      "Edoardo Mangiarotti                   13\n",
      "Name: isim, dtype: int64\n"
     ]
    },
    {
     "data": {
      "image/png": "[encoded data removed]",
      "text/plain": [
       "<Figure size 432x288 with 1 Axes>"
      ]
     },
     "metadata": {
      "needs_background": "light"
     },
     "output_type": "display_data"
    },
    {
     "name": "stdout",
     "output_type": "stream",
     "text": [
      "cinsiyet: \n",
      " M    28530\n",
      "F    11253\n",
      "Name: cinsiyet, dtype: int64\n"
     ]
    },
    {
     "data": {
      "image/png": "[encoded data removed]",
      "text/plain": [
       "<Figure size 432x288 with 1 Axes>"
      ]
     },
     "metadata": {
      "needs_background": "light"
     },
     "output_type": "display_data"
    },
    {
     "name": "stdout",
     "output_type": "stream",
     "text": [
      "takım: \n",
      " United States    5219\n",
      "Soviet Union     2451\n",
      "Germany          1984\n",
      "Great Britain    1673\n",
      "France           1550\n",
      "Name: takım, dtype: int64\n"
     ]
    },
    {
     "data": {
      "image/png": "[encoded data removed]",
      "text/plain": [
       "<Figure size 432x288 with 1 Axes>"
      ]
     },
     "metadata": {
      "needs_background": "light"
     },
     "output_type": "display_data"
    },
    {
     "name": "stdout",
     "output_type": "stream",
     "text": [
      "uok: \n",
      " USA    5637\n",
      "URS    2503\n",
      "GER    2165\n",
      "GBR    2068\n",
      "FRA    1777\n",
      "Name: uok, dtype: int64\n"
     ]
    },
    {
     "data": {
      "image/png": "[encoded data removed]",
      "text/plain": [
       "<Figure size 432x288 with 1 Axes>"
      ]
     },
     "metadata": {
      "needs_background": "light"
     },
     "output_type": "display_data"
    },
    {
     "name": "stdout",
     "output_type": "stream",
     "text": [
      "sezon: \n",
      " Summer    34088\n",
      "Winter     5695\n",
      "Name: sezon, dtype: int64\n"
     ]
    },
    {
     "data": {
      "image/png": "[encoded data removed]",
      "text/plain": [
       "<Figure size 432x288 with 1 Axes>"
      ]
     },
     "metadata": {
      "needs_background": "light"
     },
     "output_type": "display_data"
    },
    {
     "name": "stdout",
     "output_type": "stream",
     "text": [
      "şehir: \n",
      " London            3624\n",
      "Athina            2602\n",
      "Los Angeles       2123\n",
      "Beijing           2048\n",
      "Rio de Janeiro    2023\n",
      "Name: şehir, dtype: int64\n"
     ]
    },
    {
     "data": {
      "image/png": "[encoded data removed]",
      "text/plain": [
       "<Figure size 432x288 with 1 Axes>"
      ]
     },
     "metadata": {
      "needs_background": "light"
     },
     "output_type": "display_data"
    },
    {
     "name": "stdout",
     "output_type": "stream",
     "text": [
      "spor: \n",
      " Athletics     3969\n",
      "Swimming      3048\n",
      "Rowing        2945\n",
      "Gymnastics    2256\n",
      "Fencing       1743\n",
      "Name: spor, dtype: int64\n"
     ]
    },
    {
     "data": {
      "image/png": "[encoded data removed]",
      "text/plain": [
       "<Figure size 432x288 with 1 Axes>"
      ]
     },
     "metadata": {
      "needs_background": "light"
     },
     "output_type": "display_data"
    },
    {
     "name": "stdout",
     "output_type": "stream",
     "text": [
      "etkinlik: \n",
      " Football Men's Football        1269\n",
      "Ice Hockey Men's Ice Hockey    1230\n",
      "Hockey Men's Hockey            1050\n",
      "Water Polo Men's Water Polo     866\n",
      "Rowing Men's Coxed Eights       730\n",
      "Name: etkinlik, dtype: int64\n"
     ]
    },
    {
     "data": {
      "image/png": "[encoded data removed]",
      "text/plain": [
       "<Figure size 432x288 with 1 Axes>"
      ]
     },
     "metadata": {
      "needs_background": "light"
     },
     "output_type": "display_data"
    },
    {
     "name": "stdout",
     "output_type": "stream",
     "text": [
      "madalya: \n",
      " Gold      13372\n",
      "Bronze    13295\n",
      "Silver    13116\n",
      "Name: madalya, dtype: int64\n"
     ]
    }
   ],
   "source": [
    "def plotBar(degisken, n=5):\n",
    "    \n",
    "    veri_ = veri[degisken]\n",
    "    veri_sayma = veri_.value_counts()\n",
    "    veri_sayma = veri_sayma[:n]\n",
    "    \n",
    "    plt.figure()\n",
    "    plt.bar(veri_sayma.index, veri_sayma, color=\"orange\")\n",
    "    plt.xticks(veri_sayma.index, veri_sayma.index.values)\n",
    "    plt.xticks(rotation=45)\n",
    "    plt.ylabel(\"Frekans\")\n",
    "    plt.title(\"Veri Sıklığı - {}\" .format(degisken))\n",
    "    plt.show()\n",
    "    print(\"{}: \\n {}\".format(degisken,veri_sayma))\n",
    "    \n",
    "kategorikDegisken = [\"isim\",\"cinsiyet\",\"takım\",\"uok\",\"sezon\",\"şehir\",\"spor\",\"etkinlik\",\"madalya\"]\n",
    "\n",
    "for i in kategorikDegisken:\n",
    "    plotBar(i)"
   ]
  },
  {
   "cell_type": "markdown",
   "id": "0ffe958d",
   "metadata": {},
   "source": [
    "# İKİ DEĞİŞKENLİ VERİ ANALİZİ"
   ]
  },
  {
   "cell_type": "markdown",
   "id": "00d04365",
   "metadata": {},
   "source": [
    "# Cinsiyete Gore Boy ve Agirlik Karsilastirmasi"
   ]
  },
  {
   "cell_type": "code",
   "execution_count": 13,
   "id": "f0ab69db",
   "metadata": {},
   "outputs": [
    {
     "data": {
      "image/png": "[encoded data removed]",
      "text/plain": [
       "<Figure size 432x288 with 1 Axes>"
      ]
     },
     "metadata": {
      "needs_background": "light"
     },
     "output_type": "display_data"
    }
   ],
   "source": [
    "erkek = veri[veri.cinsiyet == \"M\"]\n",
    "kadin = veri[veri.cinsiyet == \"F\"]\n",
    "\n",
    "plt.figure()\n",
    "plt.scatter(erkek.boy, erkek.ağırlık, alpha = 0.4, label = \"Erkek\", color= \"blue\")\n",
    "plt.scatter(kadin.boy, kadin.ağırlık, alpha = 0.4, label = \"Kadın\", color = \"pink\")\n",
    "plt.xlabel(\"Boy\")\n",
    "plt.ylabel(\"Kilo\")\n",
    "plt.legend()\n",
    "plt.show()"
   ]
  },
  {
   "cell_type": "markdown",
   "id": "7b63b01f",
   "metadata": {},
   "source": [
    "# Sayısal Sutunlar Arasındaki İlişki İncelemesi"
   ]
  },
  {
   "cell_type": "code",
   "execution_count": 14,
   "id": "373ca73b",
   "metadata": {},
   "outputs": [
    {
     "data": {
      "text/html": [
       "<div>\n",
       "<style scoped>\n",
       "    .dataframe tbody tr th:only-of-type {\n",
       "        vertical-align: middle;\n",
       "    }\n",
       "\n",
       "    .dataframe tbody tr th {\n",
       "        vertical-align: top;\n",
       "    }\n",
       "\n",
       "    .dataframe thead th {\n",
       "        text-align: right;\n",
       "    }\n",
       "</style>\n",
       "<table border=\"1\" class=\"dataframe\">\n",
       "  <thead>\n",
       "    <tr style=\"text-align: right;\">\n",
       "      <th></th>\n",
       "      <th>yaş</th>\n",
       "      <th>boy</th>\n",
       "      <th>ağırlık</th>\n",
       "    </tr>\n",
       "  </thead>\n",
       "  <tbody>\n",
       "    <tr>\n",
       "      <th>yaş</th>\n",
       "      <td>1.000000</td>\n",
       "      <td>0.061727</td>\n",
       "      <td>0.136404</td>\n",
       "    </tr>\n",
       "    <tr>\n",
       "      <th>boy</th>\n",
       "      <td>0.061727</td>\n",
       "      <td>1.000000</td>\n",
       "      <td>0.794368</td>\n",
       "    </tr>\n",
       "    <tr>\n",
       "      <th>ağırlık</th>\n",
       "      <td>0.136404</td>\n",
       "      <td>0.794368</td>\n",
       "      <td>1.000000</td>\n",
       "    </tr>\n",
       "  </tbody>\n",
       "</table>\n",
       "</div>"
      ],
      "text/plain": [
       "              yaş       boy   ağırlık\n",
       "yaş      1.000000  0.061727  0.136404\n",
       "boy      0.061727  1.000000  0.794368\n",
       "ağırlık  0.136404  0.794368  1.000000"
      ]
     },
     "execution_count": 14,
     "metadata": {},
     "output_type": "execute_result"
    }
   ],
   "source": [
    "korelasyon_tablosu = veri.loc[:,[\"yaş\",\"boy\",\"ağırlık\"]].corr()\n",
    "korelasyon_tablosu"
   ]
  },
  {
   "cell_type": "markdown",
   "id": "d06368a9",
   "metadata": {},
   "source": [
    "# Madalya - Yaş İlişkisi"
   ]
  },
  {
   "cell_type": "code",
   "execution_count": 15,
   "id": "481ed01a",
   "metadata": {},
   "outputs": [
    {
     "data": {
      "text/html": [
       "<div>\n",
       "<style scoped>\n",
       "    .dataframe tbody tr th:only-of-type {\n",
       "        vertical-align: middle;\n",
       "    }\n",
       "\n",
       "    .dataframe tbody tr th {\n",
       "        vertical-align: top;\n",
       "    }\n",
       "\n",
       "    .dataframe thead th {\n",
       "        text-align: right;\n",
       "    }\n",
       "</style>\n",
       "<table border=\"1\" class=\"dataframe\">\n",
       "  <thead>\n",
       "    <tr style=\"text-align: right;\">\n",
       "      <th></th>\n",
       "      <th>yaş</th>\n",
       "      <th>madalya_Bronze</th>\n",
       "      <th>madalya_Silver</th>\n",
       "      <th>madalya_Gold</th>\n",
       "    </tr>\n",
       "  </thead>\n",
       "  <tbody>\n",
       "    <tr>\n",
       "      <th>yaş</th>\n",
       "      <td>1.000000</td>\n",
       "      <td>-0.005407</td>\n",
       "      <td>0.008408</td>\n",
       "      <td>-0.002968</td>\n",
       "    </tr>\n",
       "    <tr>\n",
       "      <th>madalya_Bronze</th>\n",
       "      <td>-0.005407</td>\n",
       "      <td>1.000000</td>\n",
       "      <td>-0.496859</td>\n",
       "      <td>-0.504110</td>\n",
       "    </tr>\n",
       "    <tr>\n",
       "      <th>madalya_Silver</th>\n",
       "      <td>0.008408</td>\n",
       "      <td>-0.496859</td>\n",
       "      <td>1.000000</td>\n",
       "      <td>-0.499022</td>\n",
       "    </tr>\n",
       "    <tr>\n",
       "      <th>madalya_Gold</th>\n",
       "      <td>-0.002968</td>\n",
       "      <td>-0.504110</td>\n",
       "      <td>-0.499022</td>\n",
       "      <td>1.000000</td>\n",
       "    </tr>\n",
       "  </tbody>\n",
       "</table>\n",
       "</div>"
      ],
      "text/plain": [
       "                     yaş  madalya_Bronze  madalya_Silver  madalya_Gold\n",
       "yaş             1.000000       -0.005407        0.008408     -0.002968\n",
       "madalya_Bronze -0.005407        1.000000       -0.496859     -0.504110\n",
       "madalya_Silver  0.008408       -0.496859        1.000000     -0.499022\n",
       "madalya_Gold   -0.002968       -0.504110       -0.499022      1.000000"
      ]
     },
     "execution_count": 15,
     "metadata": {},
     "output_type": "execute_result"
    }
   ],
   "source": [
    "veri_gecici = veri.copy()\n",
    "veri_gecici = pd.get_dummies(veri_gecici, columns=[\"madalya\"])\n",
    "\n",
    "madalya_yas_korelasyon = veri_gecici.loc[:,[\"yaş\",\"madalya_Bronze\",\"madalya_Silver\",\"madalya_Gold\"]].corr()\n",
    "madalya_yas_korelasyon"
   ]
  },
  {
   "cell_type": "markdown",
   "id": "82e2f139",
   "metadata": {},
   "source": [
    "# Yarışmacıların Kazandıkları Altın-Gümüş-Bronz Madalya Sayıları"
   ]
  },
  {
   "cell_type": "code",
   "execution_count": 16,
   "id": "2aeb3dab",
   "metadata": {},
   "outputs": [
    {
     "data": {
      "text/html": [
       "<div>\n",
       "<style scoped>\n",
       "    .dataframe tbody tr th:only-of-type {\n",
       "        vertical-align: middle;\n",
       "    }\n",
       "\n",
       "    .dataframe tbody tr th {\n",
       "        vertical-align: top;\n",
       "    }\n",
       "\n",
       "    .dataframe thead th {\n",
       "        text-align: right;\n",
       "    }\n",
       "</style>\n",
       "<table border=\"1\" class=\"dataframe\">\n",
       "  <thead>\n",
       "    <tr style=\"text-align: right;\">\n",
       "      <th></th>\n",
       "      <th>takım</th>\n",
       "      <th>madalya_Bronze</th>\n",
       "      <th>madalya_Silver</th>\n",
       "      <th>madalya_Gold</th>\n",
       "    </tr>\n",
       "  </thead>\n",
       "  <tbody>\n",
       "    <tr>\n",
       "      <th>462</th>\n",
       "      <td>United States</td>\n",
       "      <td>1233.0</td>\n",
       "      <td>1512.0</td>\n",
       "      <td>2474.0</td>\n",
       "    </tr>\n",
       "    <tr>\n",
       "      <th>403</th>\n",
       "      <td>Soviet Union</td>\n",
       "      <td>677.0</td>\n",
       "      <td>716.0</td>\n",
       "      <td>1058.0</td>\n",
       "    </tr>\n",
       "    <tr>\n",
       "      <th>165</th>\n",
       "      <td>Germany</td>\n",
       "      <td>678.0</td>\n",
       "      <td>627.0</td>\n",
       "      <td>679.0</td>\n",
       "    </tr>\n",
       "    <tr>\n",
       "      <th>215</th>\n",
       "      <td>Italy</td>\n",
       "      <td>484.0</td>\n",
       "      <td>508.0</td>\n",
       "      <td>535.0</td>\n",
       "    </tr>\n",
       "    <tr>\n",
       "      <th>171</th>\n",
       "      <td>Great Britain</td>\n",
       "      <td>572.0</td>\n",
       "      <td>582.0</td>\n",
       "      <td>519.0</td>\n",
       "    </tr>\n",
       "    <tr>\n",
       "      <th>149</th>\n",
       "      <td>France</td>\n",
       "      <td>577.0</td>\n",
       "      <td>518.0</td>\n",
       "      <td>455.0</td>\n",
       "    </tr>\n",
       "    <tr>\n",
       "      <th>420</th>\n",
       "      <td>Sweden</td>\n",
       "      <td>507.0</td>\n",
       "      <td>476.0</td>\n",
       "      <td>451.0</td>\n",
       "    </tr>\n",
       "    <tr>\n",
       "      <th>198</th>\n",
       "      <td>Hungary</td>\n",
       "      <td>365.0</td>\n",
       "      <td>330.0</td>\n",
       "      <td>432.0</td>\n",
       "    </tr>\n",
       "    <tr>\n",
       "      <th>67</th>\n",
       "      <td>Canada</td>\n",
       "      <td>408.0</td>\n",
       "      <td>413.0</td>\n",
       "      <td>422.0</td>\n",
       "    </tr>\n",
       "    <tr>\n",
       "      <th>117</th>\n",
       "      <td>East Germany</td>\n",
       "      <td>263.0</td>\n",
       "      <td>309.0</td>\n",
       "      <td>369.0</td>\n",
       "    </tr>\n",
       "  </tbody>\n",
       "</table>\n",
       "</div>"
      ],
      "text/plain": [
       "             takım  madalya_Bronze  madalya_Silver  madalya_Gold\n",
       "462  United States          1233.0          1512.0        2474.0\n",
       "403   Soviet Union           677.0           716.0        1058.0\n",
       "165        Germany           678.0           627.0         679.0\n",
       "215          Italy           484.0           508.0         535.0\n",
       "171  Great Britain           572.0           582.0         519.0\n",
       "149         France           577.0           518.0         455.0\n",
       "420         Sweden           507.0           476.0         451.0\n",
       "198        Hungary           365.0           330.0         432.0\n",
       "67          Canada           408.0           413.0         422.0\n",
       "117   East Germany           263.0           309.0         369.0"
      ]
     },
     "execution_count": 16,
     "metadata": {},
     "output_type": "execute_result"
    }
   ],
   "source": [
    "veri_gecici.loc[:,[\"takım\",\"madalya_Bronze\",\"madalya_Silver\",\"madalya_Gold\"]].groupby([\"takım\"], as_index = False).sum().sort_values(by=\"madalya_Gold\", ascending = False)[:10]"
   ]
  },
  {
   "cell_type": "markdown",
   "id": "1a43c9ff",
   "metadata": {},
   "source": [
    "# Kazanilan Madalyalarin Hangi Sehirlerde Kazanildiklari"
   ]
  },
  {
   "cell_type": "code",
   "execution_count": 17,
   "id": "2fabe782",
   "metadata": {},
   "outputs": [
    {
     "data": {
      "text/html": [
       "<div>\n",
       "<style scoped>\n",
       "    .dataframe tbody tr th:only-of-type {\n",
       "        vertical-align: middle;\n",
       "    }\n",
       "\n",
       "    .dataframe tbody tr th {\n",
       "        vertical-align: top;\n",
       "    }\n",
       "\n",
       "    .dataframe thead th {\n",
       "        text-align: right;\n",
       "    }\n",
       "</style>\n",
       "<table border=\"1\" class=\"dataframe\">\n",
       "  <thead>\n",
       "    <tr style=\"text-align: right;\">\n",
       "      <th></th>\n",
       "      <th>şehir</th>\n",
       "      <th>madalya_Bronze</th>\n",
       "      <th>madalya_Silver</th>\n",
       "      <th>madalya_Gold</th>\n",
       "    </tr>\n",
       "  </thead>\n",
       "  <tbody>\n",
       "    <tr>\n",
       "      <th>17</th>\n",
       "      <td>London</td>\n",
       "      <td>1214.0</td>\n",
       "      <td>1195.0</td>\n",
       "      <td>1215.0</td>\n",
       "    </tr>\n",
       "    <tr>\n",
       "      <th>3</th>\n",
       "      <td>Athina</td>\n",
       "      <td>860.0</td>\n",
       "      <td>859.0</td>\n",
       "      <td>883.0</td>\n",
       "    </tr>\n",
       "    <tr>\n",
       "      <th>18</th>\n",
       "      <td>Los Angeles</td>\n",
       "      <td>706.0</td>\n",
       "      <td>691.0</td>\n",
       "      <td>726.0</td>\n",
       "    </tr>\n",
       "    <tr>\n",
       "      <th>6</th>\n",
       "      <td>Beijing</td>\n",
       "      <td>710.0</td>\n",
       "      <td>667.0</td>\n",
       "      <td>671.0</td>\n",
       "    </tr>\n",
       "    <tr>\n",
       "      <th>27</th>\n",
       "      <td>Rio de Janeiro</td>\n",
       "      <td>703.0</td>\n",
       "      <td>655.0</td>\n",
       "      <td>665.0</td>\n",
       "    </tr>\n",
       "    <tr>\n",
       "      <th>38</th>\n",
       "      <td>Sydney</td>\n",
       "      <td>680.0</td>\n",
       "      <td>661.0</td>\n",
       "      <td>663.0</td>\n",
       "    </tr>\n",
       "    <tr>\n",
       "      <th>4</th>\n",
       "      <td>Atlanta</td>\n",
       "      <td>629.0</td>\n",
       "      <td>605.0</td>\n",
       "      <td>608.0</td>\n",
       "    </tr>\n",
       "    <tr>\n",
       "      <th>5</th>\n",
       "      <td>Barcelona</td>\n",
       "      <td>604.0</td>\n",
       "      <td>549.0</td>\n",
       "      <td>559.0</td>\n",
       "    </tr>\n",
       "    <tr>\n",
       "      <th>33</th>\n",
       "      <td>Seoul</td>\n",
       "      <td>549.0</td>\n",
       "      <td>513.0</td>\n",
       "      <td>520.0</td>\n",
       "    </tr>\n",
       "    <tr>\n",
       "      <th>2</th>\n",
       "      <td>Antwerpen</td>\n",
       "      <td>367.0</td>\n",
       "      <td>448.0</td>\n",
       "      <td>493.0</td>\n",
       "    </tr>\n",
       "  </tbody>\n",
       "</table>\n",
       "</div>"
      ],
      "text/plain": [
       "             şehir  madalya_Bronze  madalya_Silver  madalya_Gold\n",
       "17          London          1214.0          1195.0        1215.0\n",
       "3           Athina           860.0           859.0         883.0\n",
       "18     Los Angeles           706.0           691.0         726.0\n",
       "6          Beijing           710.0           667.0         671.0\n",
       "27  Rio de Janeiro           703.0           655.0         665.0\n",
       "38          Sydney           680.0           661.0         663.0\n",
       "4          Atlanta           629.0           605.0         608.0\n",
       "5        Barcelona           604.0           549.0         559.0\n",
       "33           Seoul           549.0           513.0         520.0\n",
       "2        Antwerpen           367.0           448.0         493.0"
      ]
     },
     "execution_count": 17,
     "metadata": {},
     "output_type": "execute_result"
    }
   ],
   "source": [
    "veri_gecici.loc[:,[\"şehir\",\"madalya_Bronze\",\"madalya_Silver\",\"madalya_Gold\"]].groupby([\"şehir\"], as_index = False).sum().sort_values(by=\"madalya_Gold\", ascending = False)[:10]"
   ]
  },
  {
   "cell_type": "markdown",
   "id": "8cfeb021",
   "metadata": {},
   "source": [
    "# Cinsiyete Gore Kazanilan Altin-Gumus-Bronz Madalya Sayilari"
   ]
  },
  {
   "cell_type": "code",
   "execution_count": 18,
   "id": "0e733d3a",
   "metadata": {},
   "outputs": [
    {
     "data": {
      "text/html": [
       "<div>\n",
       "<style scoped>\n",
       "    .dataframe tbody tr th:only-of-type {\n",
       "        vertical-align: middle;\n",
       "    }\n",
       "\n",
       "    .dataframe tbody tr th {\n",
       "        vertical-align: top;\n",
       "    }\n",
       "\n",
       "    .dataframe thead th {\n",
       "        text-align: right;\n",
       "    }\n",
       "</style>\n",
       "<table border=\"1\" class=\"dataframe\">\n",
       "  <thead>\n",
       "    <tr style=\"text-align: right;\">\n",
       "      <th></th>\n",
       "      <th>cinsiyet</th>\n",
       "      <th>madalya_Bronze</th>\n",
       "      <th>madalya_Silver</th>\n",
       "      <th>madalya_Gold</th>\n",
       "    </tr>\n",
       "  </thead>\n",
       "  <tbody>\n",
       "    <tr>\n",
       "      <th>1</th>\n",
       "      <td>M</td>\n",
       "      <td>9524.0</td>\n",
       "      <td>9381.0</td>\n",
       "      <td>9625.0</td>\n",
       "    </tr>\n",
       "    <tr>\n",
       "      <th>0</th>\n",
       "      <td>F</td>\n",
       "      <td>3771.0</td>\n",
       "      <td>3735.0</td>\n",
       "      <td>3747.0</td>\n",
       "    </tr>\n",
       "  </tbody>\n",
       "</table>\n",
       "</div>"
      ],
      "text/plain": [
       "  cinsiyet  madalya_Bronze  madalya_Silver  madalya_Gold\n",
       "1        M          9524.0          9381.0        9625.0\n",
       "0        F          3771.0          3735.0        3747.0"
      ]
     },
     "execution_count": 18,
     "metadata": {},
     "output_type": "execute_result"
    }
   ],
   "source": [
    "veri_gecici.loc[:,[\"cinsiyet\",\"madalya_Bronze\",\"madalya_Silver\",\"madalya_Gold\"]].groupby([\"cinsiyet\"], as_index = False).sum().sort_values(by=\"madalya_Gold\", ascending = False)[:10]"
   ]
  },
  {
   "cell_type": "markdown",
   "id": "dfa313f9",
   "metadata": {},
   "source": [
    "# ÇOK DEĞİŞKENLİ VERİ ANALİZİ"
   ]
  },
  {
   "cell_type": "markdown",
   "id": "7f834dfa",
   "metadata": {},
   "source": [
    "# Pivot Tablosu"
   ]
  },
  {
   "cell_type": "code",
   "execution_count": 19,
   "id": "a6ec3266",
   "metadata": {},
   "outputs": [
    {
     "data": {
      "text/html": [
       "<div>\n",
       "<style scoped>\n",
       "    .dataframe tbody tr th:only-of-type {\n",
       "        vertical-align: middle;\n",
       "    }\n",
       "\n",
       "    .dataframe tbody tr th {\n",
       "        vertical-align: top;\n",
       "    }\n",
       "\n",
       "    .dataframe thead tr th {\n",
       "        text-align: left;\n",
       "    }\n",
       "\n",
       "    .dataframe thead tr:last-of-type th {\n",
       "        text-align: right;\n",
       "    }\n",
       "</style>\n",
       "<table border=\"1\" class=\"dataframe\">\n",
       "  <thead>\n",
       "    <tr>\n",
       "      <th></th>\n",
       "      <th colspan=\"2\" halign=\"left\">ağırlık</th>\n",
       "      <th colspan=\"2\" halign=\"left\">boy</th>\n",
       "      <th colspan=\"6\" halign=\"left\">yaş</th>\n",
       "    </tr>\n",
       "    <tr>\n",
       "      <th></th>\n",
       "      <th colspan=\"2\" halign=\"left\">mean</th>\n",
       "      <th colspan=\"2\" halign=\"left\">mean</th>\n",
       "      <th colspan=\"2\" halign=\"left\">max</th>\n",
       "      <th colspan=\"2\" halign=\"left\">min</th>\n",
       "      <th colspan=\"2\" halign=\"left\">std</th>\n",
       "    </tr>\n",
       "    <tr>\n",
       "      <th>cinsiyet</th>\n",
       "      <th>F</th>\n",
       "      <th>M</th>\n",
       "      <th>F</th>\n",
       "      <th>M</th>\n",
       "      <th>F</th>\n",
       "      <th>M</th>\n",
       "      <th>F</th>\n",
       "      <th>M</th>\n",
       "      <th>F</th>\n",
       "      <th>M</th>\n",
       "    </tr>\n",
       "    <tr>\n",
       "      <th>madalya</th>\n",
       "      <th></th>\n",
       "      <th></th>\n",
       "      <th></th>\n",
       "      <th></th>\n",
       "      <th></th>\n",
       "      <th></th>\n",
       "      <th></th>\n",
       "      <th></th>\n",
       "      <th></th>\n",
       "      <th></th>\n",
       "    </tr>\n",
       "  </thead>\n",
       "  <tbody>\n",
       "    <tr>\n",
       "      <th>Bronze</th>\n",
       "      <td>62.757125</td>\n",
       "      <td>77.841504</td>\n",
       "      <td>170.003227</td>\n",
       "      <td>180.045806</td>\n",
       "      <td>69.0</td>\n",
       "      <td>72.0</td>\n",
       "      <td>12.0</td>\n",
       "      <td>10.0</td>\n",
       "      <td>5.329416</td>\n",
       "      <td>5.869104</td>\n",
       "    </tr>\n",
       "    <tr>\n",
       "      <th>Gold</th>\n",
       "      <td>63.199349</td>\n",
       "      <td>78.186505</td>\n",
       "      <td>170.448727</td>\n",
       "      <td>180.318906</td>\n",
       "      <td>63.0</td>\n",
       "      <td>64.0</td>\n",
       "      <td>13.0</td>\n",
       "      <td>13.0</td>\n",
       "      <td>5.219710</td>\n",
       "      <td>5.987016</td>\n",
       "    </tr>\n",
       "    <tr>\n",
       "      <th>Silver</th>\n",
       "      <td>62.866892</td>\n",
       "      <td>77.960887</td>\n",
       "      <td>170.233783</td>\n",
       "      <td>180.053626</td>\n",
       "      <td>55.0</td>\n",
       "      <td>73.0</td>\n",
       "      <td>11.0</td>\n",
       "      <td>13.0</td>\n",
       "      <td>5.253290</td>\n",
       "      <td>6.096383</td>\n",
       "    </tr>\n",
       "  </tbody>\n",
       "</table>\n",
       "</div>"
      ],
      "text/plain": [
       "            ağırlık                    boy               yaş              \\\n",
       "               mean                   mean               max         min   \n",
       "cinsiyet          F          M           F           M     F     M     F   \n",
       "madalya                                                                    \n",
       "Bronze    62.757125  77.841504  170.003227  180.045806  69.0  72.0  12.0   \n",
       "Gold      63.199349  78.186505  170.448727  180.318906  63.0  64.0  13.0   \n",
       "Silver    62.866892  77.960887  170.233783  180.053626  55.0  73.0  11.0   \n",
       "\n",
       "                                    \n",
       "                     std            \n",
       "cinsiyet     M         F         M  \n",
       "madalya                             \n",
       "Bronze    10.0  5.329416  5.869104  \n",
       "Gold      13.0  5.219710  5.987016  \n",
       "Silver    13.0  5.253290  6.096383  "
      ]
     },
     "execution_count": 19,
     "metadata": {},
     "output_type": "execute_result"
    }
   ],
   "source": [
    "veri_pivot = veri.pivot_table(index=\"madalya\", columns=\"cinsiyet\", values=[\"yaş\", \"boy\", \"ağırlık\"],\n",
    "                              aggfunc={\"boy\":np.mean, \"ağırlık\":np.mean, \"yaş\":[min, max, np.std]})\n",
    "veri_pivot.head()"
   ]
  },
  {
   "cell_type": "markdown",
   "id": "3f27b9ad",
   "metadata": {},
   "source": [
    "# Anomali Tespiti(Aykırı Değer)"
   ]
  },
  {
   "cell_type": "code",
   "execution_count": 20,
   "id": "87769c3e",
   "metadata": {},
   "outputs": [
    {
     "data": {
      "text/plain": [
       "Basketball        64\n",
       "Gymnastics        34\n",
       "Handball           6\n",
       "Athletics          5\n",
       "Sailing            3\n",
       "Diving             3\n",
       "Shooting           1\n",
       "Figure Skating     1\n",
       "Wrestling          1\n",
       "Name: spor, dtype: int64"
      ]
     },
     "execution_count": 20,
     "metadata": {},
     "output_type": "execute_result"
    }
   ],
   "source": [
    "def anomaliTespiti(df, ozellik):\n",
    "    outlier_indices = []\n",
    "    \n",
    "    for c in ozellik:\n",
    "        # 1. çeyrek\n",
    "        Q1 = np.percentile(df[c], 25)\n",
    "        # 3. çeyrek\n",
    "        Q3 = np.percentile(df[c], 75)\n",
    "        # IQR\n",
    "        IQR = Q3 - Q1\n",
    "        # aykırı değer için ek adım miktarı\n",
    "        outlier_step = 1.5 * IQR\n",
    "        # aykırı değeri ve de bulunduğu indeksi tespit edelim\n",
    "        outlier_list_col = df[(df[c] < Q1 - outlier_step) | (df[c] > Q3 + outlier_step)].index\n",
    "        # tespit edilen indeksleri depolayalım\n",
    "        outlier_indices.extend(outlier_list_col)\n",
    "        \n",
    "    # essiz aykiri degerleri bulalim\n",
    "    outlier_indices = Counter(outlier_indices)\n",
    "    # eger bir ornek v adet sutunda farkli deger ise bunu aykiri kabul edelim\n",
    "    multiple_outliers = list(i for i, v in outlier_indices.items() if v > 1) # 1'den buyuk degerler icin aykiri deger yok    \n",
    "    \n",
    "    return multiple_outliers\n",
    "\n",
    "veri_anomali = veri.loc[anomaliTespiti(veri, [\"yaş\", \"ağırlık\", \"boy\"])]\n",
    "veri_anomali.spor.value_counts()"
   ]
  },
  {
   "cell_type": "code",
   "execution_count": 21,
   "id": "72201d79",
   "metadata": {},
   "outputs": [
    {
     "data": {
      "image/png": "[encoded data removed]",
      "text/plain": [
       "<Figure size 432x288 with 1 Axes>"
      ]
     },
     "metadata": {
      "needs_background": "light"
     },
     "output_type": "display_data"
    }
   ],
   "source": [
    "plt.figure()\n",
    "plt.bar(veri_anomali.spor.value_counts().index, veri_anomali.spor.value_counts().values)\n",
    "plt.xticks(rotation=30)\n",
    "plt.title(\"Anomaliye Rastlanan Spor Branşları\")\n",
    "plt.ylabel(\"Frekans\")\n",
    "plt.grid(True, alpha=0.5)\n",
    "plt.show()"
   ]
  },
  {
   "cell_type": "code",
   "execution_count": 22,
   "id": "c3d65d33",
   "metadata": {},
   "outputs": [
    {
     "data": {
      "text/plain": [
       "Gymnastics Women's Team All-Around          21\n",
       "Gymnastics Women's Uneven Bars               6\n",
       "Gymnastics Women's Balance Beam              3\n",
       "Gymnastics Women's Floor Exercise            2\n",
       "Gymnastics Women's Individual All-Around     1\n",
       "Gymnastics Women's Horse Vault               1\n",
       "Name: etkinlik, dtype: int64"
      ]
     },
     "execution_count": 22,
     "metadata": {},
     "output_type": "execute_result"
    }
   ],
   "source": [
    "veri_gym = veri_anomali[veri_anomali.spor == \"Gymnastics\"]\n",
    "veri_gym\n",
    "veri_gym.etkinlik.value_counts()"
   ]
  },
  {
   "cell_type": "markdown",
   "id": "9bbdb7dd",
   "metadata": {},
   "source": [
    "# Zaman Serilerinde Veri Analizi"
   ]
  },
  {
   "cell_type": "code",
   "execution_count": 23,
   "id": "27af2759",
   "metadata": {},
   "outputs": [
    {
     "data": {
      "text/html": [
       "<div>\n",
       "<style scoped>\n",
       "    .dataframe tbody tr th:only-of-type {\n",
       "        vertical-align: middle;\n",
       "    }\n",
       "\n",
       "    .dataframe tbody tr th {\n",
       "        vertical-align: top;\n",
       "    }\n",
       "\n",
       "    .dataframe thead th {\n",
       "        text-align: right;\n",
       "    }\n",
       "</style>\n",
       "<table border=\"1\" class=\"dataframe\">\n",
       "  <thead>\n",
       "    <tr style=\"text-align: right;\">\n",
       "      <th></th>\n",
       "      <th>isim</th>\n",
       "      <th>cinsiyet</th>\n",
       "      <th>yaş</th>\n",
       "      <th>boy</th>\n",
       "      <th>ağırlık</th>\n",
       "      <th>takım</th>\n",
       "      <th>uok</th>\n",
       "      <th>yıl</th>\n",
       "      <th>sezon</th>\n",
       "      <th>şehir</th>\n",
       "      <th>spor</th>\n",
       "      <th>etkinlik</th>\n",
       "      <th>madalya</th>\n",
       "    </tr>\n",
       "  </thead>\n",
       "  <tbody>\n",
       "    <tr>\n",
       "      <th>3</th>\n",
       "      <td>Edgar Lindenau Aabye</td>\n",
       "      <td>M</td>\n",
       "      <td>34.0</td>\n",
       "      <td>182.48</td>\n",
       "      <td>95.62</td>\n",
       "      <td>Denmark/Sweden</td>\n",
       "      <td>DEN</td>\n",
       "      <td>1900</td>\n",
       "      <td>Summer</td>\n",
       "      <td>Paris</td>\n",
       "      <td>Tug-Of-War</td>\n",
       "      <td>Tug-Of-War Men's Tug-Of-War</td>\n",
       "      <td>Gold</td>\n",
       "    </tr>\n",
       "    <tr>\n",
       "      <th>37</th>\n",
       "      <td>Arvo Ossian Aaltonen</td>\n",
       "      <td>M</td>\n",
       "      <td>30.0</td>\n",
       "      <td>182.01</td>\n",
       "      <td>76.69</td>\n",
       "      <td>Finland</td>\n",
       "      <td>FIN</td>\n",
       "      <td>1920</td>\n",
       "      <td>Summer</td>\n",
       "      <td>Antwerpen</td>\n",
       "      <td>Swimming</td>\n",
       "      <td>Swimming Men's 200 metres Breaststroke</td>\n",
       "      <td>Bronze</td>\n",
       "    </tr>\n",
       "    <tr>\n",
       "      <th>38</th>\n",
       "      <td>Arvo Ossian Aaltonen</td>\n",
       "      <td>M</td>\n",
       "      <td>30.0</td>\n",
       "      <td>177.00</td>\n",
       "      <td>75.00</td>\n",
       "      <td>Finland</td>\n",
       "      <td>FIN</td>\n",
       "      <td>1920</td>\n",
       "      <td>Summer</td>\n",
       "      <td>Antwerpen</td>\n",
       "      <td>Swimming</td>\n",
       "      <td>Swimming Men's 400 metres Breaststroke</td>\n",
       "      <td>Bronze</td>\n",
       "    </tr>\n",
       "    <tr>\n",
       "      <th>40</th>\n",
       "      <td>Juhamatti Tapio Aaltonen</td>\n",
       "      <td>M</td>\n",
       "      <td>28.0</td>\n",
       "      <td>184.00</td>\n",
       "      <td>85.00</td>\n",
       "      <td>Finland</td>\n",
       "      <td>FIN</td>\n",
       "      <td>2014</td>\n",
       "      <td>Winter</td>\n",
       "      <td>Sochi</td>\n",
       "      <td>Ice Hockey</td>\n",
       "      <td>Ice Hockey Men's Ice Hockey</td>\n",
       "      <td>Bronze</td>\n",
       "    </tr>\n",
       "    <tr>\n",
       "      <th>41</th>\n",
       "      <td>Paavo Johannes Aaltonen</td>\n",
       "      <td>M</td>\n",
       "      <td>28.0</td>\n",
       "      <td>175.00</td>\n",
       "      <td>64.00</td>\n",
       "      <td>Finland</td>\n",
       "      <td>FIN</td>\n",
       "      <td>1948</td>\n",
       "      <td>Summer</td>\n",
       "      <td>London</td>\n",
       "      <td>Gymnastics</td>\n",
       "      <td>Gymnastics Men's Individual All-Around</td>\n",
       "      <td>Bronze</td>\n",
       "    </tr>\n",
       "  </tbody>\n",
       "</table>\n",
       "</div>"
      ],
      "text/plain": [
       "                        isim cinsiyet   yaş     boy  ağırlık           takım  \\\n",
       "3       Edgar Lindenau Aabye        M  34.0  182.48    95.62  Denmark/Sweden   \n",
       "37      Arvo Ossian Aaltonen        M  30.0  182.01    76.69         Finland   \n",
       "38      Arvo Ossian Aaltonen        M  30.0  177.00    75.00         Finland   \n",
       "40  Juhamatti Tapio Aaltonen        M  28.0  184.00    85.00         Finland   \n",
       "41   Paavo Johannes Aaltonen        M  28.0  175.00    64.00         Finland   \n",
       "\n",
       "    uok   yıl   sezon      şehir        spor  \\\n",
       "3   DEN  1900  Summer      Paris  Tug-Of-War   \n",
       "37  FIN  1920  Summer  Antwerpen    Swimming   \n",
       "38  FIN  1920  Summer  Antwerpen    Swimming   \n",
       "40  FIN  2014  Winter      Sochi  Ice Hockey   \n",
       "41  FIN  1948  Summer     London  Gymnastics   \n",
       "\n",
       "                                  etkinlik madalya  \n",
       "3              Tug-Of-War Men's Tug-Of-War    Gold  \n",
       "37  Swimming Men's 200 metres Breaststroke  Bronze  \n",
       "38  Swimming Men's 400 metres Breaststroke  Bronze  \n",
       "40             Ice Hockey Men's Ice Hockey  Bronze  \n",
       "41  Gymnastics Men's Individual All-Around  Bronze  "
      ]
     },
     "execution_count": 23,
     "metadata": {},
     "output_type": "execute_result"
    }
   ],
   "source": [
    "veri_zaman = veri.copy()\n",
    "veri_zaman.head()"
   ]
  },
  {
   "cell_type": "code",
   "execution_count": 24,
   "id": "19698e39",
   "metadata": {},
   "outputs": [
    {
     "data": {
      "text/plain": [
       "array([1900, 1920, 2014, 1948, 1952, 1992, 1994, 2002, 2006, 2008, 1988,\n",
       "       1996, 1960, 1912, 1956, 2016, 2012, 2000, 2004, 1980, 1984, 1936,\n",
       "       1906, 1964, 1972, 1924, 1904, 1932, 1928, 1968, 1976, 2010, 1908,\n",
       "       1998, 1896], dtype=int64)"
      ]
     },
     "execution_count": 24,
     "metadata": {},
     "output_type": "execute_result"
    }
   ],
   "source": [
    "essiz_yillar = veri_zaman.yıl.unique()\n",
    "essiz_yillar"
   ]
  },
  {
   "cell_type": "code",
   "execution_count": 25,
   "id": "e7ee6d2b",
   "metadata": {},
   "outputs": [
    {
     "data": {
      "text/plain": [
       "array([1896, 1900, 1904, 1906, 1908, 1912, 1920, 1924, 1928, 1932, 1936,\n",
       "       1948, 1952, 1956, 1960, 1964, 1968, 1972, 1976, 1980, 1984, 1988,\n",
       "       1992, 1994, 1996, 1998, 2000, 2002, 2004, 2006, 2008, 2010, 2012,\n",
       "       2014, 2016], dtype=int64)"
      ]
     },
     "execution_count": 25,
     "metadata": {},
     "output_type": "execute_result"
    }
   ],
   "source": [
    "# etkinliğin yapıldığı yılları sıralayalım\n",
    "sirali_array = np.sort(essiz_yillar)\n",
    "sirali_array"
   ]
  },
  {
   "cell_type": "code",
   "execution_count": 26,
   "id": "df529cdc",
   "metadata": {},
   "outputs": [
    {
     "data": {
      "image/png": "[encoded data removed]",
      "text/plain": [
       "<Figure size 432x288 with 1 Axes>"
      ]
     },
     "metadata": {
      "needs_background": "light"
     },
     "output_type": "display_data"
    }
   ],
   "source": [
    "# saçılım grafiğini çizdirelim\n",
    "plt.figure()\n",
    "plt.scatter(range(len(sirali_array)), sirali_array)\n",
    "plt.grid(True)\n",
    "plt.ylabel(\"Yıllar\")\n",
    "plt.title(\"Olimpiyatlar Çift Yıllarda Düzenlenir\")\n",
    "plt.show()"
   ]
  },
  {
   "cell_type": "code",
   "execution_count": 27,
   "id": "0abaa821",
   "metadata": {},
   "outputs": [
    {
     "data": {
      "text/html": [
       "<div>\n",
       "<style scoped>\n",
       "    .dataframe tbody tr th:only-of-type {\n",
       "        vertical-align: middle;\n",
       "    }\n",
       "\n",
       "    .dataframe tbody tr th {\n",
       "        vertical-align: top;\n",
       "    }\n",
       "\n",
       "    .dataframe thead th {\n",
       "        text-align: right;\n",
       "    }\n",
       "</style>\n",
       "<table border=\"1\" class=\"dataframe\">\n",
       "  <thead>\n",
       "    <tr style=\"text-align: right;\">\n",
       "      <th></th>\n",
       "      <th>isim</th>\n",
       "      <th>cinsiyet</th>\n",
       "      <th>yaş</th>\n",
       "      <th>boy</th>\n",
       "      <th>ağırlık</th>\n",
       "      <th>takım</th>\n",
       "      <th>uok</th>\n",
       "      <th>yıl</th>\n",
       "      <th>sezon</th>\n",
       "      <th>şehir</th>\n",
       "      <th>spor</th>\n",
       "      <th>etkinlik</th>\n",
       "      <th>madalya</th>\n",
       "      <th>tarih_saat</th>\n",
       "    </tr>\n",
       "  </thead>\n",
       "  <tbody>\n",
       "    <tr>\n",
       "      <th>3</th>\n",
       "      <td>Edgar Lindenau Aabye</td>\n",
       "      <td>M</td>\n",
       "      <td>34.0</td>\n",
       "      <td>182.48</td>\n",
       "      <td>95.62</td>\n",
       "      <td>Denmark/Sweden</td>\n",
       "      <td>DEN</td>\n",
       "      <td>1900</td>\n",
       "      <td>Summer</td>\n",
       "      <td>Paris</td>\n",
       "      <td>Tug-Of-War</td>\n",
       "      <td>Tug-Of-War Men's Tug-Of-War</td>\n",
       "      <td>Gold</td>\n",
       "      <td>1900-01-01</td>\n",
       "    </tr>\n",
       "    <tr>\n",
       "      <th>37</th>\n",
       "      <td>Arvo Ossian Aaltonen</td>\n",
       "      <td>M</td>\n",
       "      <td>30.0</td>\n",
       "      <td>182.01</td>\n",
       "      <td>76.69</td>\n",
       "      <td>Finland</td>\n",
       "      <td>FIN</td>\n",
       "      <td>1920</td>\n",
       "      <td>Summer</td>\n",
       "      <td>Antwerpen</td>\n",
       "      <td>Swimming</td>\n",
       "      <td>Swimming Men's 200 metres Breaststroke</td>\n",
       "      <td>Bronze</td>\n",
       "      <td>1920-01-01</td>\n",
       "    </tr>\n",
       "    <tr>\n",
       "      <th>38</th>\n",
       "      <td>Arvo Ossian Aaltonen</td>\n",
       "      <td>M</td>\n",
       "      <td>30.0</td>\n",
       "      <td>177.00</td>\n",
       "      <td>75.00</td>\n",
       "      <td>Finland</td>\n",
       "      <td>FIN</td>\n",
       "      <td>1920</td>\n",
       "      <td>Summer</td>\n",
       "      <td>Antwerpen</td>\n",
       "      <td>Swimming</td>\n",
       "      <td>Swimming Men's 400 metres Breaststroke</td>\n",
       "      <td>Bronze</td>\n",
       "      <td>1920-01-01</td>\n",
       "    </tr>\n",
       "    <tr>\n",
       "      <th>40</th>\n",
       "      <td>Juhamatti Tapio Aaltonen</td>\n",
       "      <td>M</td>\n",
       "      <td>28.0</td>\n",
       "      <td>184.00</td>\n",
       "      <td>85.00</td>\n",
       "      <td>Finland</td>\n",
       "      <td>FIN</td>\n",
       "      <td>2014</td>\n",
       "      <td>Winter</td>\n",
       "      <td>Sochi</td>\n",
       "      <td>Ice Hockey</td>\n",
       "      <td>Ice Hockey Men's Ice Hockey</td>\n",
       "      <td>Bronze</td>\n",
       "      <td>2014-01-01</td>\n",
       "    </tr>\n",
       "    <tr>\n",
       "      <th>41</th>\n",
       "      <td>Paavo Johannes Aaltonen</td>\n",
       "      <td>M</td>\n",
       "      <td>28.0</td>\n",
       "      <td>175.00</td>\n",
       "      <td>64.00</td>\n",
       "      <td>Finland</td>\n",
       "      <td>FIN</td>\n",
       "      <td>1948</td>\n",
       "      <td>Summer</td>\n",
       "      <td>London</td>\n",
       "      <td>Gymnastics</td>\n",
       "      <td>Gymnastics Men's Individual All-Around</td>\n",
       "      <td>Bronze</td>\n",
       "      <td>1948-01-01</td>\n",
       "    </tr>\n",
       "  </tbody>\n",
       "</table>\n",
       "</div>"
      ],
      "text/plain": [
       "                        isim cinsiyet   yaş     boy  ağırlık           takım  \\\n",
       "3       Edgar Lindenau Aabye        M  34.0  182.48    95.62  Denmark/Sweden   \n",
       "37      Arvo Ossian Aaltonen        M  30.0  182.01    76.69         Finland   \n",
       "38      Arvo Ossian Aaltonen        M  30.0  177.00    75.00         Finland   \n",
       "40  Juhamatti Tapio Aaltonen        M  28.0  184.00    85.00         Finland   \n",
       "41   Paavo Johannes Aaltonen        M  28.0  175.00    64.00         Finland   \n",
       "\n",
       "    uok   yıl   sezon      şehir        spor  \\\n",
       "3   DEN  1900  Summer      Paris  Tug-Of-War   \n",
       "37  FIN  1920  Summer  Antwerpen    Swimming   \n",
       "38  FIN  1920  Summer  Antwerpen    Swimming   \n",
       "40  FIN  2014  Winter      Sochi  Ice Hockey   \n",
       "41  FIN  1948  Summer     London  Gymnastics   \n",
       "\n",
       "                                  etkinlik madalya tarih_saat  \n",
       "3              Tug-Of-War Men's Tug-Of-War    Gold 1900-01-01  \n",
       "37  Swimming Men's 200 metres Breaststroke  Bronze 1920-01-01  \n",
       "38  Swimming Men's 400 metres Breaststroke  Bronze 1920-01-01  \n",
       "40             Ice Hockey Men's Ice Hockey  Bronze 2014-01-01  \n",
       "41  Gymnastics Men's Individual All-Around  Bronze 1948-01-01  "
      ]
     },
     "execution_count": 27,
     "metadata": {},
     "output_type": "execute_result"
    }
   ],
   "source": [
    "# veri içerisinde yer alan yıl değerlerini datetime tipine dönüştürelim\n",
    "tarih_saat_nesnesi = pd.to_datetime(veri_zaman[\"yıl\"], format=\"%Y\")\n",
    "type(tarih_saat_nesnesi)\n",
    "tarih_saat_nesnesi.head()\n",
    "\n",
    "veri_zaman[\"tarih_saat\"] = tarih_saat_nesnesi\n",
    "veri_zaman.head()"
   ]
  },
  {
   "cell_type": "code",
   "execution_count": 28,
   "id": "0a80e7f0",
   "metadata": {},
   "outputs": [
    {
     "data": {
      "text/html": [
       "<div>\n",
       "<style scoped>\n",
       "    .dataframe tbody tr th:only-of-type {\n",
       "        vertical-align: middle;\n",
       "    }\n",
       "\n",
       "    .dataframe tbody tr th {\n",
       "        vertical-align: top;\n",
       "    }\n",
       "\n",
       "    .dataframe thead th {\n",
       "        text-align: right;\n",
       "    }\n",
       "</style>\n",
       "<table border=\"1\" class=\"dataframe\">\n",
       "  <thead>\n",
       "    <tr style=\"text-align: right;\">\n",
       "      <th></th>\n",
       "      <th>isim</th>\n",
       "      <th>cinsiyet</th>\n",
       "      <th>yaş</th>\n",
       "      <th>boy</th>\n",
       "      <th>ağırlık</th>\n",
       "      <th>takım</th>\n",
       "      <th>uok</th>\n",
       "      <th>sezon</th>\n",
       "      <th>şehir</th>\n",
       "      <th>spor</th>\n",
       "      <th>etkinlik</th>\n",
       "      <th>madalya</th>\n",
       "    </tr>\n",
       "    <tr>\n",
       "      <th>tarih_saat</th>\n",
       "      <th></th>\n",
       "      <th></th>\n",
       "      <th></th>\n",
       "      <th></th>\n",
       "      <th></th>\n",
       "      <th></th>\n",
       "      <th></th>\n",
       "      <th></th>\n",
       "      <th></th>\n",
       "      <th></th>\n",
       "      <th></th>\n",
       "      <th></th>\n",
       "    </tr>\n",
       "  </thead>\n",
       "  <tbody>\n",
       "    <tr>\n",
       "      <th>1900-01-01</th>\n",
       "      <td>Edgar Lindenau Aabye</td>\n",
       "      <td>M</td>\n",
       "      <td>34.0</td>\n",
       "      <td>182.48</td>\n",
       "      <td>95.62</td>\n",
       "      <td>Denmark/Sweden</td>\n",
       "      <td>DEN</td>\n",
       "      <td>Summer</td>\n",
       "      <td>Paris</td>\n",
       "      <td>Tug-Of-War</td>\n",
       "      <td>Tug-Of-War Men's Tug-Of-War</td>\n",
       "      <td>Gold</td>\n",
       "    </tr>\n",
       "    <tr>\n",
       "      <th>1920-01-01</th>\n",
       "      <td>Arvo Ossian Aaltonen</td>\n",
       "      <td>M</td>\n",
       "      <td>30.0</td>\n",
       "      <td>182.01</td>\n",
       "      <td>76.69</td>\n",
       "      <td>Finland</td>\n",
       "      <td>FIN</td>\n",
       "      <td>Summer</td>\n",
       "      <td>Antwerpen</td>\n",
       "      <td>Swimming</td>\n",
       "      <td>Swimming Men's 200 metres Breaststroke</td>\n",
       "      <td>Bronze</td>\n",
       "    </tr>\n",
       "    <tr>\n",
       "      <th>1920-01-01</th>\n",
       "      <td>Arvo Ossian Aaltonen</td>\n",
       "      <td>M</td>\n",
       "      <td>30.0</td>\n",
       "      <td>177.00</td>\n",
       "      <td>75.00</td>\n",
       "      <td>Finland</td>\n",
       "      <td>FIN</td>\n",
       "      <td>Summer</td>\n",
       "      <td>Antwerpen</td>\n",
       "      <td>Swimming</td>\n",
       "      <td>Swimming Men's 400 metres Breaststroke</td>\n",
       "      <td>Bronze</td>\n",
       "    </tr>\n",
       "    <tr>\n",
       "      <th>2014-01-01</th>\n",
       "      <td>Juhamatti Tapio Aaltonen</td>\n",
       "      <td>M</td>\n",
       "      <td>28.0</td>\n",
       "      <td>184.00</td>\n",
       "      <td>85.00</td>\n",
       "      <td>Finland</td>\n",
       "      <td>FIN</td>\n",
       "      <td>Winter</td>\n",
       "      <td>Sochi</td>\n",
       "      <td>Ice Hockey</td>\n",
       "      <td>Ice Hockey Men's Ice Hockey</td>\n",
       "      <td>Bronze</td>\n",
       "    </tr>\n",
       "    <tr>\n",
       "      <th>1948-01-01</th>\n",
       "      <td>Paavo Johannes Aaltonen</td>\n",
       "      <td>M</td>\n",
       "      <td>28.0</td>\n",
       "      <td>175.00</td>\n",
       "      <td>64.00</td>\n",
       "      <td>Finland</td>\n",
       "      <td>FIN</td>\n",
       "      <td>Summer</td>\n",
       "      <td>London</td>\n",
       "      <td>Gymnastics</td>\n",
       "      <td>Gymnastics Men's Individual All-Around</td>\n",
       "      <td>Bronze</td>\n",
       "    </tr>\n",
       "  </tbody>\n",
       "</table>\n",
       "</div>"
      ],
      "text/plain": [
       "                                isim cinsiyet   yaş     boy  ağırlık  \\\n",
       "tarih_saat                                                             \n",
       "1900-01-01      Edgar Lindenau Aabye        M  34.0  182.48    95.62   \n",
       "1920-01-01      Arvo Ossian Aaltonen        M  30.0  182.01    76.69   \n",
       "1920-01-01      Arvo Ossian Aaltonen        M  30.0  177.00    75.00   \n",
       "2014-01-01  Juhamatti Tapio Aaltonen        M  28.0  184.00    85.00   \n",
       "1948-01-01   Paavo Johannes Aaltonen        M  28.0  175.00    64.00   \n",
       "\n",
       "                     takım  uok   sezon      şehir        spor  \\\n",
       "tarih_saat                                                       \n",
       "1900-01-01  Denmark/Sweden  DEN  Summer      Paris  Tug-Of-War   \n",
       "1920-01-01         Finland  FIN  Summer  Antwerpen    Swimming   \n",
       "1920-01-01         Finland  FIN  Summer  Antwerpen    Swimming   \n",
       "2014-01-01         Finland  FIN  Winter      Sochi  Ice Hockey   \n",
       "1948-01-01         Finland  FIN  Summer     London  Gymnastics   \n",
       "\n",
       "                                          etkinlik madalya  \n",
       "tarih_saat                                                  \n",
       "1900-01-01             Tug-Of-War Men's Tug-Of-War    Gold  \n",
       "1920-01-01  Swimming Men's 200 metres Breaststroke  Bronze  \n",
       "1920-01-01  Swimming Men's 400 metres Breaststroke  Bronze  \n",
       "2014-01-01             Ice Hockey Men's Ice Hockey  Bronze  \n",
       "1948-01-01  Gymnastics Men's Individual All-Around  Bronze  "
      ]
     },
     "execution_count": 28,
     "metadata": {},
     "output_type": "execute_result"
    }
   ],
   "source": [
    "# veri_zaman degiskeninin ana indeksini, datetime tipi olan tarih_saat degeriyle degistirelim\n",
    "veri_zaman = veri_zaman.set_index(\"tarih_saat\")\n",
    "veri_zaman.drop([\"yıl\"], axis=1, inplace=True)\n",
    "veri_zaman.head()"
   ]
  },
  {
   "cell_type": "markdown",
   "id": "321e824e",
   "metadata": {},
   "source": [
    "# Yıllara Göre Ortalama Yaş-Boy-Kilo Değişimi"
   ]
  },
  {
   "cell_type": "code",
   "execution_count": 30,
   "id": "04c3768a",
   "metadata": {},
   "outputs": [
    {
     "data": {
      "text/html": [
       "<div>\n",
       "<style scoped>\n",
       "    .dataframe tbody tr th:only-of-type {\n",
       "        vertical-align: middle;\n",
       "    }\n",
       "\n",
       "    .dataframe tbody tr th {\n",
       "        vertical-align: top;\n",
       "    }\n",
       "\n",
       "    .dataframe thead th {\n",
       "        text-align: right;\n",
       "    }\n",
       "</style>\n",
       "<table border=\"1\" class=\"dataframe\">\n",
       "  <thead>\n",
       "    <tr style=\"text-align: right;\">\n",
       "      <th></th>\n",
       "      <th>yaş</th>\n",
       "      <th>boy</th>\n",
       "      <th>ağırlık</th>\n",
       "    </tr>\n",
       "    <tr>\n",
       "      <th>tarih_saat</th>\n",
       "      <th></th>\n",
       "      <th></th>\n",
       "      <th></th>\n",
       "    </tr>\n",
       "  </thead>\n",
       "  <tbody>\n",
       "    <tr>\n",
       "      <th>1896-12-31</th>\n",
       "      <td>24.034965</td>\n",
       "      <td>174.280350</td>\n",
       "      <td>72.734056</td>\n",
       "    </tr>\n",
       "    <tr>\n",
       "      <th>1898-12-31</th>\n",
       "      <td>NaN</td>\n",
       "      <td>NaN</td>\n",
       "      <td>NaN</td>\n",
       "    </tr>\n",
       "    <tr>\n",
       "      <th>1900-12-31</th>\n",
       "      <td>27.885762</td>\n",
       "      <td>177.882301</td>\n",
       "      <td>74.979950</td>\n",
       "    </tr>\n",
       "    <tr>\n",
       "      <th>1902-12-31</th>\n",
       "      <td>NaN</td>\n",
       "      <td>NaN</td>\n",
       "      <td>NaN</td>\n",
       "    </tr>\n",
       "    <tr>\n",
       "      <th>1904-12-31</th>\n",
       "      <td>26.421811</td>\n",
       "      <td>177.241091</td>\n",
       "      <td>74.330823</td>\n",
       "    </tr>\n",
       "    <tr>\n",
       "      <th>1906-12-31</th>\n",
       "      <td>26.624454</td>\n",
       "      <td>176.347576</td>\n",
       "      <td>74.072183</td>\n",
       "    </tr>\n",
       "    <tr>\n",
       "      <th>1908-12-31</th>\n",
       "      <td>27.601685</td>\n",
       "      <td>176.662419</td>\n",
       "      <td>73.721107</td>\n",
       "    </tr>\n",
       "    <tr>\n",
       "      <th>1910-12-31</th>\n",
       "      <td>NaN</td>\n",
       "      <td>NaN</td>\n",
       "      <td>NaN</td>\n",
       "    </tr>\n",
       "    <tr>\n",
       "      <th>1912-12-31</th>\n",
       "      <td>27.495218</td>\n",
       "      <td>176.890244</td>\n",
       "      <td>74.321467</td>\n",
       "    </tr>\n",
       "    <tr>\n",
       "      <th>1914-12-31</th>\n",
       "      <td>NaN</td>\n",
       "      <td>NaN</td>\n",
       "      <td>NaN</td>\n",
       "    </tr>\n",
       "    <tr>\n",
       "      <th>1916-12-31</th>\n",
       "      <td>NaN</td>\n",
       "      <td>NaN</td>\n",
       "      <td>NaN</td>\n",
       "    </tr>\n",
       "    <tr>\n",
       "      <th>1918-12-31</th>\n",
       "      <td>NaN</td>\n",
       "      <td>NaN</td>\n",
       "      <td>NaN</td>\n",
       "    </tr>\n",
       "    <tr>\n",
       "      <th>1920-12-31</th>\n",
       "      <td>29.305046</td>\n",
       "      <td>176.333012</td>\n",
       "      <td>73.246437</td>\n",
       "    </tr>\n",
       "    <tr>\n",
       "      <th>1922-12-31</th>\n",
       "      <td>NaN</td>\n",
       "      <td>NaN</td>\n",
       "      <td>NaN</td>\n",
       "    </tr>\n",
       "    <tr>\n",
       "      <th>1924-12-31</th>\n",
       "      <td>28.021830</td>\n",
       "      <td>176.658212</td>\n",
       "      <td>74.427058</td>\n",
       "    </tr>\n",
       "    <tr>\n",
       "      <th>1926-12-31</th>\n",
       "      <td>NaN</td>\n",
       "      <td>NaN</td>\n",
       "      <td>NaN</td>\n",
       "    </tr>\n",
       "    <tr>\n",
       "      <th>1928-12-31</th>\n",
       "      <td>26.291616</td>\n",
       "      <td>175.687934</td>\n",
       "      <td>72.530049</td>\n",
       "    </tr>\n",
       "    <tr>\n",
       "      <th>1930-12-31</th>\n",
       "      <td>NaN</td>\n",
       "      <td>NaN</td>\n",
       "      <td>NaN</td>\n",
       "    </tr>\n",
       "    <tr>\n",
       "      <th>1932-12-31</th>\n",
       "      <td>26.307172</td>\n",
       "      <td>175.586928</td>\n",
       "      <td>73.882598</td>\n",
       "    </tr>\n",
       "    <tr>\n",
       "      <th>1934-12-31</th>\n",
       "      <td>NaN</td>\n",
       "      <td>NaN</td>\n",
       "      <td>NaN</td>\n",
       "    </tr>\n",
       "  </tbody>\n",
       "</table>\n",
       "</div>"
      ],
      "text/plain": [
       "                  yaş         boy    ağırlık\n",
       "tarih_saat                                  \n",
       "1896-12-31  24.034965  174.280350  72.734056\n",
       "1898-12-31        NaN         NaN        NaN\n",
       "1900-12-31  27.885762  177.882301  74.979950\n",
       "1902-12-31        NaN         NaN        NaN\n",
       "1904-12-31  26.421811  177.241091  74.330823\n",
       "1906-12-31  26.624454  176.347576  74.072183\n",
       "1908-12-31  27.601685  176.662419  73.721107\n",
       "1910-12-31        NaN         NaN        NaN\n",
       "1912-12-31  27.495218  176.890244  74.321467\n",
       "1914-12-31        NaN         NaN        NaN\n",
       "1916-12-31        NaN         NaN        NaN\n",
       "1918-12-31        NaN         NaN        NaN\n",
       "1920-12-31  29.305046  176.333012  73.246437\n",
       "1922-12-31        NaN         NaN        NaN\n",
       "1924-12-31  28.021830  176.658212  74.427058\n",
       "1926-12-31        NaN         NaN        NaN\n",
       "1928-12-31  26.291616  175.687934  72.530049\n",
       "1930-12-31        NaN         NaN        NaN\n",
       "1932-12-31  26.307172  175.586928  73.882598\n",
       "1934-12-31        NaN         NaN        NaN"
      ]
     },
     "execution_count": 30,
     "metadata": {},
     "output_type": "execute_result"
    }
   ],
   "source": [
    "periyodik_veri = veri_zaman.resample(\"2A\").mean() # 2 yıllık periyotlarla ortalamalara bakalım\n",
    "periyodik_veri.head(20)"
   ]
  },
  {
   "cell_type": "code",
   "execution_count": 40,
   "id": "166a772d",
   "metadata": {},
   "outputs": [
    {
     "data": {
      "text/html": [
       "<div>\n",
       "<style scoped>\n",
       "    .dataframe tbody tr th:only-of-type {\n",
       "        vertical-align: middle;\n",
       "    }\n",
       "\n",
       "    .dataframe tbody tr th {\n",
       "        vertical-align: top;\n",
       "    }\n",
       "\n",
       "    .dataframe thead th {\n",
       "        text-align: right;\n",
       "    }\n",
       "</style>\n",
       "<table border=\"1\" class=\"dataframe\">\n",
       "  <thead>\n",
       "    <tr style=\"text-align: right;\">\n",
       "      <th></th>\n",
       "      <th>yaş</th>\n",
       "      <th>boy</th>\n",
       "      <th>ağırlık</th>\n",
       "    </tr>\n",
       "    <tr>\n",
       "      <th>tarih_saat</th>\n",
       "      <th></th>\n",
       "      <th></th>\n",
       "      <th></th>\n",
       "    </tr>\n",
       "  </thead>\n",
       "  <tbody>\n",
       "    <tr>\n",
       "      <th>1896-12-31</th>\n",
       "      <td>24.034965</td>\n",
       "      <td>174.280350</td>\n",
       "      <td>72.734056</td>\n",
       "    </tr>\n",
       "    <tr>\n",
       "      <th>1900-12-31</th>\n",
       "      <td>27.885762</td>\n",
       "      <td>177.882301</td>\n",
       "      <td>74.979950</td>\n",
       "    </tr>\n",
       "    <tr>\n",
       "      <th>1904-12-31</th>\n",
       "      <td>26.421811</td>\n",
       "      <td>177.241091</td>\n",
       "      <td>74.330823</td>\n",
       "    </tr>\n",
       "    <tr>\n",
       "      <th>1906-12-31</th>\n",
       "      <td>26.624454</td>\n",
       "      <td>176.347576</td>\n",
       "      <td>74.072183</td>\n",
       "    </tr>\n",
       "    <tr>\n",
       "      <th>1908-12-31</th>\n",
       "      <td>27.601685</td>\n",
       "      <td>176.662419</td>\n",
       "      <td>73.721107</td>\n",
       "    </tr>\n",
       "    <tr>\n",
       "      <th>1912-12-31</th>\n",
       "      <td>27.495218</td>\n",
       "      <td>176.890244</td>\n",
       "      <td>74.321467</td>\n",
       "    </tr>\n",
       "    <tr>\n",
       "      <th>1920-12-31</th>\n",
       "      <td>29.305046</td>\n",
       "      <td>176.333012</td>\n",
       "      <td>73.246437</td>\n",
       "    </tr>\n",
       "    <tr>\n",
       "      <th>1924-12-31</th>\n",
       "      <td>28.021830</td>\n",
       "      <td>176.658212</td>\n",
       "      <td>74.427058</td>\n",
       "    </tr>\n",
       "    <tr>\n",
       "      <th>1928-12-31</th>\n",
       "      <td>26.291616</td>\n",
       "      <td>175.687934</td>\n",
       "      <td>72.530049</td>\n",
       "    </tr>\n",
       "    <tr>\n",
       "      <th>1932-12-31</th>\n",
       "      <td>26.307172</td>\n",
       "      <td>175.586928</td>\n",
       "      <td>73.882598</td>\n",
       "    </tr>\n",
       "    <tr>\n",
       "      <th>1936-12-31</th>\n",
       "      <td>25.986341</td>\n",
       "      <td>177.570166</td>\n",
       "      <td>74.674771</td>\n",
       "    </tr>\n",
       "    <tr>\n",
       "      <th>1948-12-31</th>\n",
       "      <td>28.092199</td>\n",
       "      <td>176.967447</td>\n",
       "      <td>73.905684</td>\n",
       "    </tr>\n",
       "    <tr>\n",
       "      <th>1952-12-31</th>\n",
       "      <td>26.779284</td>\n",
       "      <td>176.536292</td>\n",
       "      <td>73.438625</td>\n",
       "    </tr>\n",
       "    <tr>\n",
       "      <th>1956-12-31</th>\n",
       "      <td>25.729626</td>\n",
       "      <td>176.064180</td>\n",
       "      <td>73.115906</td>\n",
       "    </tr>\n",
       "    <tr>\n",
       "      <th>1960-12-31</th>\n",
       "      <td>25.078450</td>\n",
       "      <td>175.671295</td>\n",
       "      <td>72.496569</td>\n",
       "    </tr>\n",
       "    <tr>\n",
       "      <th>1964-12-31</th>\n",
       "      <td>25.244444</td>\n",
       "      <td>176.291399</td>\n",
       "      <td>73.635951</td>\n",
       "    </tr>\n",
       "    <tr>\n",
       "      <th>1968-12-31</th>\n",
       "      <td>24.973726</td>\n",
       "      <td>177.234538</td>\n",
       "      <td>73.545374</td>\n",
       "    </tr>\n",
       "    <tr>\n",
       "      <th>1972-12-31</th>\n",
       "      <td>24.874116</td>\n",
       "      <td>177.582150</td>\n",
       "      <td>74.162956</td>\n",
       "    </tr>\n",
       "    <tr>\n",
       "      <th>1976-12-31</th>\n",
       "      <td>24.386675</td>\n",
       "      <td>177.831091</td>\n",
       "      <td>74.106473</td>\n",
       "    </tr>\n",
       "    <tr>\n",
       "      <th>1980-12-31</th>\n",
       "      <td>24.304619</td>\n",
       "      <td>177.754419</td>\n",
       "      <td>74.044395</td>\n",
       "    </tr>\n",
       "  </tbody>\n",
       "</table>\n",
       "</div>"
      ],
      "text/plain": [
       "                  yaş         boy    ağırlık\n",
       "tarih_saat                                  \n",
       "1896-12-31  24.034965  174.280350  72.734056\n",
       "1900-12-31  27.885762  177.882301  74.979950\n",
       "1904-12-31  26.421811  177.241091  74.330823\n",
       "1906-12-31  26.624454  176.347576  74.072183\n",
       "1908-12-31  27.601685  176.662419  73.721107\n",
       "1912-12-31  27.495218  176.890244  74.321467\n",
       "1920-12-31  29.305046  176.333012  73.246437\n",
       "1924-12-31  28.021830  176.658212  74.427058\n",
       "1928-12-31  26.291616  175.687934  72.530049\n",
       "1932-12-31  26.307172  175.586928  73.882598\n",
       "1936-12-31  25.986341  177.570166  74.674771\n",
       "1948-12-31  28.092199  176.967447  73.905684\n",
       "1952-12-31  26.779284  176.536292  73.438625\n",
       "1956-12-31  25.729626  176.064180  73.115906\n",
       "1960-12-31  25.078450  175.671295  72.496569\n",
       "1964-12-31  25.244444  176.291399  73.635951\n",
       "1968-12-31  24.973726  177.234538  73.545374\n",
       "1972-12-31  24.874116  177.582150  74.162956\n",
       "1976-12-31  24.386675  177.831091  74.106473\n",
       "1980-12-31  24.304619  177.754419  74.044395"
      ]
     },
     "execution_count": 40,
     "metadata": {},
     "output_type": "execute_result"
    }
   ],
   "source": [
    "# kayıp verileri çıkaralım\n",
    "periyodik_veri.dropna(axis=0, inplace=True)\n",
    "periyodik_veri.head(20)"
   ]
  },
  {
   "cell_type": "code",
   "execution_count": 39,
   "id": "842ce2f3",
   "metadata": {},
   "outputs": [
    {
     "data": {
      "text/plain": [
       "<Figure size 432x288 with 0 Axes>"
      ]
     },
     "metadata": {},
     "output_type": "display_data"
    },
    {
     "data": {
      "image/png": "[encoded data removed]",
      "text/plain": [
       "<Figure size 432x288 with 1 Axes>"
      ]
     },
     "metadata": {
      "needs_background": "light"
     },
     "output_type": "display_data"
    }
   ],
   "source": [
    "# grafiği çizdirelim\n",
    "plt.figure()\n",
    "periyodik_veri.plot()\n",
    "plt.title(\"Yillara Gore Ortalama Yas-Boy-Kilo Degisimi\")\n",
    "plt.xlabel(\"Yıl\")\n",
    "plt.grid(True)\n",
    "plt.show()"
   ]
  }
 ],
 "metadata": {
  "kernelspec": {
   "display_name": "Python 3 (ipykernel)",
   "language": "python",
   "name": "python3"
  },
  "language_info": {
   "codemirror_mode": {
    "name": "ipython",
    "version": 3
   },
   "file_extension": ".py",
   "mimetype": "text/x-python",
   "name": "python",
   "nbconvert_exporter": "python",
   "pygments_lexer": "ipython3",
   "version": "3.9.7"
  }
 },
 "nbformat": 4,
 "nbformat_minor": 5
}
